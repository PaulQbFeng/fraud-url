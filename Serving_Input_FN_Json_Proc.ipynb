{
 "cells": [
  {
   "cell_type": "markdown",
   "metadata": {},
   "source": [
    "# 0) Environment Setup and Import"
   ]
  },
  {
   "cell_type": "code",
   "execution_count": 22,
   "metadata": {},
   "outputs": [],
   "source": [
    "import pandas as pd\n",
    "import numpy as np\n",
    "import urllib.parse as urlparse\n",
    "\n",
    "try:\n",
    "    import xlrd\n",
    "except ImportError:\n",
    "    !pip install xlrd"
   ]
  },
  {
   "cell_type": "code",
   "execution_count": 9,
   "metadata": {},
   "outputs": [],
   "source": [
    "df = pd.read_csv('./test.csv')\n",
    "df = df[:200]"
   ]
  },
  {
   "cell_type": "markdown",
   "metadata": {},
   "source": [
    "# 1) Parser Function Setup"
   ]
  },
  {
   "cell_type": "code",
   "execution_count": 10,
   "metadata": {},
   "outputs": [],
   "source": [
    "def primaryDomain(x,l='len'):\n",
    "    temp = urlparse.urlparse(x).hostname\n",
    "    if l == 'len':\n",
    "        return len(temp)\n",
    "    else:\n",
    "        return temp"
   ]
  },
  {
   "cell_type": "code",
   "execution_count": 11,
   "metadata": {},
   "outputs": [],
   "source": [
    "#Valid extension checker of domain names to allow for correct parsing of domain and extension\n",
    "validExtensions = pd.read_excel(\"./Extensions.xlsx\")\n",
    "validExtensions = list(validExtensions['Ext'])"
   ]
  },
  {
   "cell_type": "code",
   "execution_count": 13,
   "metadata": {},
   "outputs": [],
   "source": [
    "#Extension Finder function that seperates extension from Primary Domain\n",
    "def extFind(url,combine=True):\n",
    "    t = primaryDomain(url,l='str')\n",
    "    orig = t\n",
    "    t = t.split(\".\")\n",
    "    temp = \"\"\n",
    "    last = t[-1]\n",
    "    while (len(last) <= 3) & (last in validExtensions):\n",
    "        if temp == \"\":\n",
    "            temp = t.pop()\n",
    "        else:\n",
    "            temp = t.pop() + \".\" + temp\n",
    "        try:\n",
    "            last = t[-1]\n",
    "        except IndexError:\n",
    "            break\n",
    "    if combine == True:\n",
    "        if orig[:2] ==\"ww\":\n",
    "            t = [t[0],\".\".join(t[1:])]\n",
    "        else:\n",
    "            t = [\".\".join(t)]\n",
    "    t.append(temp)\n",
    "    #print(str(orig) + \" --> \" + str(t))\n",
    "    return t"
   ]
  },
  {
   "cell_type": "code",
   "execution_count": 17,
   "metadata": {},
   "outputs": [],
   "source": [
    "#Parsing of domain into list and stored temporairly in Domain Temp to be used by urlVars function\n",
    "df['domain_temp'] = \"\"\n",
    "df[\"domain_temp\"] = df.url.apply(lambda row: extFind(row,True))"
   ]
  },
  {
   "cell_type": "code",
   "execution_count": 18,
   "metadata": {},
   "outputs": [],
   "source": [
    "#Main feature creation function\n",
    "def urlVars(df,domain_list_col):\n",
    "#     df['Extension'] = df[domain_list_col].apply(lambda row: row[-1])\n",
    "#     df['Extension_Length'] = df['Extension'].apply(lambda row: len(row))\n",
    "#     df['Num_Hyphen'] = df.url.apply(lambda row: row.count(\"-\"))\n",
    "    \n",
    "#     df['Longest_Word'] = df.Word_Counts.apply(lambda row: max(row))\n",
    "#     df['Shortest_Word'] = df.Word_Counts.apply(lambda row: min(row))\n",
    "#     df['Mean_Word'] = df.Word_Counts.apply(lambda row: float(sum(row))/max(len(row),1))\n",
    "\n",
    "    df['URL_Length'] = df.url.apply(lambda row: len(row))\n",
    "    df['Query'] = df.url.apply(lambda row: urlparse.urlparse(row).query if urlparse.urlparse(row).query != '' else 'None')\n",
    "    df['Query_Length'] = df.Query.apply(lambda row: len(row))\n",
    "    df['Primary'] = df[domain_list_col].apply(lambda row: row[1] if row[0] in ['www','ww1','ww2'] else row[0])\n",
    "    df['Primary_Length'] = df.Primary.apply(lambda row: len(row))\n",
    "    df['Num_Periods'] = df.url.apply(lambda row: row.count(\".\"))\n",
    "    df['Num_Quest'] = df.url.apply(lambda row: row.count(\"?\"))\n",
    "    df['Num_Perc'] = df.url.apply(lambda row: row.count(\"%\"))\n",
    "    df['Num_Exclam'] = df.url.apply(lambda row: row.count(\"!\"))\n",
    "    df['Num_Numbers'] = df.url.apply(lambda row: sum(c.isdigit() for c in row))\n",
    "    df['Words'] = df.url.apply(lambda row: \"\".join((char if char.isalnum() else \" \") for char in row).split())\n",
    "    df['Word_Counts'] = df.Words.apply(lambda row: len([len(x) for x in row]))\n",
    "  #  df['Word_Counts'] = df.Word_Counts(lambda row: np.count_nonzero(row))\n"
   ]
  },
  {
   "cell_type": "markdown",
   "metadata": {},
   "source": [
    "# 3) Final creation of DataFrame and Export"
   ]
  },
  {
   "cell_type": "code",
   "execution_count": 19,
   "metadata": {},
   "outputs": [],
   "source": [
    "urlVars(df,'domain_temp')\n",
    "df.drop(['Primary','Words','Query'],axis=1,inplace=True)"
   ]
  },
  {
   "cell_type": "code",
   "execution_count": null,
   "metadata": {},
   "outputs": [],
   "source": [
    "df.to_json('serving_input_data.json')"
   ]
  }
 ],
 "metadata": {
  "kernelspec": {
   "display_name": "Python 3",
   "language": "python",
   "name": "python3"
  },
  "language_info": {
   "codemirror_mode": {
    "name": "ipython",
    "version": 3
   },
   "file_extension": ".py",
   "mimetype": "text/x-python",
   "name": "python",
   "nbconvert_exporter": "python",
   "pygments_lexer": "ipython3",
   "version": "3.7.1"
  }
 },
 "nbformat": 4,
 "nbformat_minor": 2
}
