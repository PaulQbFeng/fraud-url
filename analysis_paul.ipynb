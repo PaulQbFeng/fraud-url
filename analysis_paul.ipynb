{
 "cells": [
  {
   "cell_type": "code",
   "execution_count": 1,
   "metadata": {},
   "outputs": [],
   "source": [
    "import pandas as pd \n",
    "import os "
   ]
  },
  {
   "cell_type": "code",
   "execution_count": 85,
   "metadata": {},
   "outputs": [],
   "source": [
    "%matplotlib inline"
   ]
  },
  {
   "cell_type": "markdown",
   "metadata": {},
   "source": [
    "#### Read the file "
   ]
  },
  {
   "cell_type": "code",
   "execution_count": 43,
   "metadata": {},
   "outputs": [],
   "source": [
    "df = pd.read_csv('HiddenFraudulentURLs.csv', sep=';')"
   ]
  },
  {
   "cell_type": "markdown",
   "metadata": {},
   "source": [
    "#### Statistics"
   ]
  },
  {
   "cell_type": "code",
   "execution_count": 114,
   "metadata": {},
   "outputs": [
    {
     "data": {
      "text/plain": [
       "compromissionType\n",
       "defacement    96514\n",
       "normal         3713\n",
       "phishing      84953\n",
       "Name: url, dtype: int64"
      ]
     },
     "execution_count": 114,
     "metadata": {},
     "output_type": "execute_result"
    }
   ],
   "source": [
    "df.groupby(['compromissionType']).url.count()"
   ]
  },
  {
   "cell_type": "code",
   "execution_count": 111,
   "metadata": {},
   "outputs": [
    {
     "data": {
      "text/plain": [
       "isHiddenFraudulent\n",
       "False    176471\n",
       "True       8709\n",
       "Name: url, dtype: int64"
      ]
     },
     "execution_count": 111,
     "metadata": {},
     "output_type": "execute_result"
    }
   ],
   "source": [
    "df.groupby(['isHiddenFraudulent']).url.count()"
   ]
  },
  {
   "cell_type": "markdown",
   "metadata": {},
   "source": [
    "#### Remove rows duplicate"
   ]
  },
  {
   "cell_type": "code",
   "execution_count": 79,
   "metadata": {},
   "outputs": [],
   "source": [
    "#duplicated rows\n",
    "df_rows = df.loc[~df.duplicated()]"
   ]
  },
  {
   "cell_type": "code",
   "execution_count": 80,
   "metadata": {},
   "outputs": [
    {
     "data": {
      "text/plain": [
       "url\n",
       "http://pastehtml.com/auth/twitter                                                                                                                                                                                                                                                                       527\n",
       "http://pastehtml.com/auth/facebook                                                                                                                                                                                                                                                                       45\n",
       "http://blog.nabatakoutdoors.com/wp-login.php?action=lostpassword                                                                                                                                                                                                                                         16\n",
       "http://blog.nabatakoutdoors.com/wp-login.php                                                                                                                                                                                                                                                             16\n",
       "http://otelaydinlatma.com/index.html                                                                                                                                                                                                                                                                      8\n",
       "http://www.aplayaday.com/index.html                                                                                                                                                                                                                                                                       6\n",
       "http://painterspaintings.com/index.html                                                                                                                                                                                                                                                                   6\n",
       "http://extremreklam.com/index.php?option=com_content&view=article&id=66&catid=37&Itemid=73                                                                                                                                                                                                                5\n",
       "http://extremreklam.com/index.php?option=com_content&view=article&id=65&Itemid=72                                                                                                                                                                                                                         5\n",
       "http://extremreklam.com/index.php?option=com_content&view=article&id=65&catid=37&Itemid=72                                                                                                                                                                                                                5\n",
       "http://extremreklam.com/index.php?option=com_content&view=article&id=66&Itemid=73                                                                                                                                                                                                                         5\n",
       "http://extremreklam.com/index.php?option=com_mailto&tmpl=component&link=56f7d31cb36d8fd1ab679fdda9c33009975994fe                                                                                                                                                                                          5\n",
       "http://extremreklam.com/index.php?option=com_mailto&tmpl=component&link=83be4932e591def539d3de38f842724fe596205b                                                                                                                                                                                          5\n",
       "http://extremreklam.com/index.php?option=com_content&view=article&id=59&catid=37&Itemid=70                                                                                                                                                                                                                5\n",
       "http://extremreklam.com/index.php?option=com_content&view=article&id=80&Itemid=75                                                                                                                                                                                                                         5\n",
       "http://extremreklam.com/index.php?option=com_content&view=article&id=80&catid=37&Itemid=75                                                                                                                                                                                                                5\n",
       "http://extremreklam.com/index.php?option=com_content&view=section&layout=blog&id=6&Itemid=67                                                                                                                                                                                                              5\n",
       "http://extremreklam.com/index.php?option=com_mailto&tmpl=component&link=17bc9958d0bf222b8ebfca328e052ed9820bc317                                                                                                                                                                                          5\n",
       "http://extremreklam.com/index.php?option=com_content&view=article&id=64&Itemid=71                                                                                                                                                                                                                         5\n",
       "http://extremreklam.com/index.php?option=com_content&view=article&id=68&catid=37                                                                                                                                                                                                                          5\n",
       "http://extremreklam.com/index.php?option=com_content&view=article&id=59&Itemid=70                                                                                                                                                                                                                         5\n",
       "http://extremreklam.com/index.php?option=com_contact&view=contact&id=1&Itemid=68                                                                                                                                                                                                                          5\n",
       "http://extremreklam.com/index.php?option=com_mailto&tmpl=component&link=b5adc1343b4b04afcb983a68a2e0c9f56deeed0e                                                                                                                                                                                          5\n",
       "http://extremreklam.com/index.php?option=com_mailto&tmpl=component&link=caa3ce6756f7c08bde1869bd5071011524a1ed0a                                                                                                                                                                                          5\n",
       "http://extremreklam.com/index.php?option=com_mailto&tmpl=component&link=edb342e02d1f3d00e063513e811dac4c1248c79f                                                                                                                                                                                          5\n",
       "http://extremreklam.com/index.php?view=article&catid=37:hizmetlerimiz&id=59:dijital-bask-cephe-kaplama&tmpl=component&print=1&layout=default&page=&option=com_content&Itemid=70                                                                                                                           5\n",
       "http://extremreklam.com/index.php?view=article&catid=37:hizmetlerimiz&id=64:duvar-reklam-uygulamalar&tmpl=component&print=1&layout=default&page=&option=com_content&Itemid=71                                                                                                                             5\n",
       "http://extremreklam.com/index.php?view=article&catid=37:hizmetlerimiz&id=65:elektrik-direi&tmpl=component&print=1&layout=default&page=&option=com_content&Itemid=72                                                                                                                                       5\n",
       "http://extremreklam.com/index.php?view=article&catid=37:hizmetlerimiz&id=66:yoenlendirme&tmpl=component&print=1&layout=default&page=&option=com_content&Itemid=73                                                                                                                                         5\n",
       "http://extremreklam.com/index.php?view=article&catid=37:hizmetlerimiz&id=68:tabela&tmpl=component&print=1&layout=default&page=&option=com_content                                                                                                                                                         5\n",
       "                                                                                                                                                                                                                                                                                                       ... \n",
       "http://www.kindergarten-mainbernheim.de/index.php?option=com_content&view=category&layout=blog&id=35&Itemid=59&limitstart=20                                                                                                                                                                              1\n",
       "http://www.kindergarten-mainbernheim.de/index.php?option=com_content&view=category&layout=blog&id=35&Itemid=59&limitstart=5                                                                                                                                                                               1\n",
       "http://www.kindergarten-mainbernheim.de/index.php?option=com_content&view=frontpage&Itemid=55                                                                                                                                                                                                             1\n",
       "http://www.kindergarten-mainbernheim.de/index.php?option=com_eventlist&view=categoryevents&id=1&Itemid=58                                                                                                                                                                                                 1\n",
       "http://www.kindergarten-mainbernheim.de/index.php?option=com_eventlist&view=categoryevents&id=1&pop=1&tmpl=component&Itemid=58                                                                                                                                                                            1\n",
       "http://www.kindergarten-mainbernheim.de/index.php?option=com_eventlist&view=categoryevents&id=2&Itemid=102                                                                                                                                                                                                1\n",
       "http://www.kindergarten-mainbernheim.de/index.php?option=com_eventlist&view=categoryevents&id=2&pop=1&tmpl=component&Itemid=102                                                                                                                                                                           1\n",
       "http://www.kindergarten-mainbernheim.de/index.php?option=com_eventlist&view=details&id=109:faschingsfeier&Itemid=58                                                                                                                                                                                       1\n",
       "http://www.kindergarten-mainbernheim.de/index.php?option=com_eventlist&view=details&id=110:osterfeier&Itemid=58                                                                                                                                                                                           1\n",
       "http://www.kindergarten-mainbernheim.de/index.php?option=com_eventlist&view=details&id=111:abschiedsfest-fuer-die-schulanfaenger-mit-uebernachtung&Itemid=58                                                                                                                                              1\n",
       "http://www.kindergarten-mainbernheim.de/index.php?option=com_impressum&view=impressum&Itemid=57                                                                                                                                                                                                           1\n",
       "http://www.kindergarten-mainbernheim.de/index.php?option=com_mailto&tmpl=component&link=aHR0cDovL3d3dy5raW5kZXJnYXJ0ZW4tbWFpbmJlcm5oZWltLmRlL2luZGV4LnBocD92aWV3PWNhdGVnb3J5ZXZlbnRzJmlkPTElM0F0ZXJtaW5lJm9wdGlvbj1jb21fZXZlbnRsaXN0Jkl0ZW1pZD01OA==                                                      1\n",
       "http://www.kindergarten-mainbernheim.de/index.php?option=com_mailto&tmpl=component&link=aHR0cDovL3d3dy5raW5kZXJnYXJ0ZW4tbWFpbmJlcm5oZWltLmRlL2luZGV4LnBocD92aWV3PWNhdGVnb3J5ZXZlbnRzJmlkPTIlM0F3b2NoZW5wbGFuJm9wdGlvbj1jb21fZXZlbnRsaXN0Jkl0ZW1pZD0xMDI=                                                  1\n",
       "http://www.kindergarten-mainbernheim.de/index.php?option=com_mailto&tmpl=component&link=aHR0cDovL3d3dy5raW5kZXJnYXJ0ZW4tbWFpbmJlcm5oZWltLmRlL2luZGV4LnBocD9vcHRpb249Y29tX2NvbnRlbnQmdmlldz1hcnRpY2xlJmlkPTE0NDpraW5kZXJnYXJ0ZW4tbWl0LWhlcnomY2F0aWQ9MzU6YmxvZyZJdGVtaWQ9NTk=                              1\n",
       "http://www.kindergarten-mainbernheim.de/index.php?option=com_mailto&tmpl=component&link=aHR0cDovL3d3dy5raW5kZXJnYXJ0ZW4tbWFpbmJlcm5oZWltLmRlL2luZGV4LnBocD9vcHRpb249Y29tX2NvbnRlbnQmdmlldz1hcnRpY2xlJmlkPTE0NTpzY2hlaW5mZWxkLWltLXphaGxlbmxhbmQmY2F0aWQ9MzU6YmxvZyZJdGVtaWQ9NTk=                          1\n",
       "http://www.kindergarten-mainbernheim.de/index.php?option=com_mailto&tmpl=component&link=aHR0cDovL3d3dy5raW5kZXJnYXJ0ZW4tbWFpbmJlcm5oZWltLmRlL2luZGV4LnBocD9vcHRpb249Y29tX2NvbnRlbnQmdmlldz1hcnRpY2xlJmlkPTE0Njp6YWhsZW5sYW5kLXphaGxlbmZlc3QmY2F0aWQ9MzU6YmxvZyZJdGVtaWQ9NTk=                              1\n",
       "http://www.kindergarten-mainbernheim.de/index.php?option=com_mailto&tmpl=component&link=aHR0cDovL3d3dy5raW5kZXJnYXJ0ZW4tbWFpbmJlcm5oZWltLmRlL2luZGV4LnBocD9vcHRpb249Y29tX2NvbnRlbnQmdmlldz1hcnRpY2xlJmlkPTE0NzphaG9pLWF1Zi1ncm9zc2VyLXBpcmF0ZW5mYWhydCZjYXRpZD0zNTpibG9nJkl0ZW1pZD01OQ==                  1\n",
       "http://www.kindergarten-mainbernheim.de/index.php?option=com_mailto&tmpl=component&link=aHR0cDovL3d3dy5raW5kZXJnYXJ0ZW4tbWFpbmJlcm5oZWltLmRlL2luZGV4LnBocD9vcHRpb249Y29tX2NvbnRlbnQmdmlldz1hcnRpY2xlJmlkPTE0ODpzaWNoZXItaXN0LXNpY2hlciZjYXRpZD0zNTpibG9nJkl0ZW1pZD01OQ==                                  1\n",
       "http://www.kindergarten-mainbernheim.de/index.php?option=com_mailto&tmpl=component&link=aHR0cDovL3d3dy5raW5kZXJnYXJ0ZW4tbWFpbmJlcm5oZWltLmRlL2luZGV4LnBocD9vcHRpb249Y29tX2NvbnRlbnQmdmlldz1hcnRpY2xlJmlkPTE1MzpzY2hsaWVzc3RhZ2UmY2F0aWQ9MzQ6aW5mb3JtYXRpb25lbiZJdGVtaWQ9MTg2                              1\n",
       "http://www.kindergarten-mainbernheim.de/index.php?option=com_mailto&tmpl=component&link=aHR0cDovL3d3dy5raW5kZXJnYXJ0ZW4tbWFpbmJlcm5oZWltLmRlL2luZGV4LnBocD9vcHRpb249Y29tX2NvbnRlbnQmdmlldz1hcnRpY2xlJmlkPTEwNDpiaWxkZXJnYWxlcmllbiZjYXRpZD0zNDppbmZvcm1hdGlvbmVuJkl0ZW1pZD0xMDU=                          1\n",
       "http://www.kindergarten-mainbernheim.de/index.php?option=com_mailto&tmpl=component&link=aHR0cDovL3d3dy5raW5kZXJnYXJ0ZW4tbWFpbmJlcm5oZWltLmRlL2luZGV4LnBocD9vcHRpb249Y29tX2NvbnRlbnQmdmlldz1hcnRpY2xlJmlkPTQ4OmdydXNzd29ydC1kZXMtdHJhZWdlcnMmY2F0aWQ9MzQ6aW5mb3JtYXRpb25lbiZJdGVtaWQ9MzQ=                  1\n",
       "http://www.kindergarten-mainbernheim.de/index.php?option=com_mailto&tmpl=component&link=aHR0cDovL3d3dy5raW5kZXJnYXJ0ZW4tbWFpbmJlcm5oZWltLmRlL2luZGV4LnBocD9vcHRpb249Y29tX2NvbnRlbnQmdmlldz1hcnRpY2xlJmlkPTUxOmV2YW5nZWxpc2NoZXMtcHJvZmlsJmNhdGlkPTM0OmluZm9ybWF0aW9uZW4mSXRlbWlkPTY1                      1\n",
       "http://www.kindergarten-mainbernheim.de/index.php?option=com_mailto&tmpl=component&link=aHR0cDovL3d3dy5raW5kZXJnYXJ0ZW4tbWFpbmJlcm5oZWltLmRlL2luZGV4LnBocD9vcHRpb249Y29tX2NvbnRlbnQmdmlldz1hcnRpY2xlJmlkPTUzOmRlci1lcnN0ZS10YWcmY2F0aWQ9MzQ6aW5mb3JtYXRpb25lbiZJdGVtaWQ9Njc=                              1\n",
       "http://www.kindergarten-mainbernheim.de/index.php?option=com_mailto&tmpl=component&link=aHR0cDovL3d3dy5raW5kZXJnYXJ0ZW4tbWFpbmJlcm5oZWltLmRlL2luZGV4LnBocD9vcHRpb249Y29tX2NvbnRlbnQmdmlldz1hcnRpY2xlJmlkPTY0OmZyZWlzcGllbCZjYXRpZD0zNDppbmZvcm1hdGlvbmVuJkl0ZW1pZD03NQ==                                  1\n",
       "http://www.kindergarten-mainbernheim.de/index.php?option=com_mailto&tmpl=component&link=aHR0cDovL3d3dy5raW5kZXJnYXJ0ZW4tbWFpbmJlcm5oZWltLmRlL2luZGV4LnBocD9vcHRpb249Y29tX2NvbnRlbnQmdmlldz1hcnRpY2xlJmlkPTYwOmphaHJlc3RoZW1hJmNhdGlkPTM0OmluZm9ybWF0aW9uZW4mSXRlbWlkPTE0Mg==                              1\n",
       "http://www.kindergarten-mainbernheim.de/index.php?option=com_mailto&tmpl=component&link=aHR0cDovL3d3dy5raW5kZXJnYXJ0ZW4tbWFpbmJlcm5oZWltLmRlL2luZGV4LnBocD9vcHRpb249Y29tX2NvbnRlbnQmdmlldz1hcnRpY2xlJmlkPTYzOmRhcy1mZWllcm4td2lyLWltLWtpbmRlcmdhcnRlbiZjYXRpZD0zNDppbmZvcm1hdGlvbmVuJkl0ZW1pZD03NA==      1\n",
       "http://www.kindergarten-mainbernheim.de/index.php?option=com_phocagallery&view=category&id=23&Itemid=173                                                                                                                                                                                                  1\n",
       "http://www.kindergarten-mainbernheim.de/index.php?option=com_phocagallery&view=category&id=24&Itemid=174                                                                                                                                                                                                  1\n",
       "http://www.kindergarten-mainbernheim.de/index.php?option=com_phocagallery&view=category&id=25&Itemid=175                                                                                                                                                                                                  1\n",
       "http://0000502.rcomhost.com/index.html                                                                                                                                                                                                                                                                    1\n",
       "Name: compromissionType, Length: 139495, dtype: int64"
      ]
     },
     "execution_count": 80,
     "metadata": {},
     "output_type": "execute_result"
    }
   ],
   "source": [
    "#Check url duplicates \n",
    "df_rows.groupby(['url']).compromissionType.count().sort_values(ascending=False)"
   ]
  },
  {
   "cell_type": "markdown",
   "metadata": {},
   "source": [
    "#### Check duplicates of single url"
   ]
  },
  {
   "cell_type": "code",
   "execution_count": null,
   "metadata": {},
   "outputs": [],
   "source": [
    "path = 'http://pastehtml.com/auth/facebook'#Paste URL here\n",
    "ex = df_rows.loc[df_rows.url.str.contains(path)]  #This filters the dataframe with the given URL \n",
    "ex"
   ]
  },
  {
   "cell_type": "code",
   "execution_count": null,
   "metadata": {},
   "outputs": [],
   "source": [
    "ex.describe()"
   ]
  },
  {
   "cell_type": "code",
   "execution_count": 95,
   "metadata": {},
   "outputs": [],
   "source": [
    "cont=list(ex.contentLength)"
   ]
  },
  {
   "cell_type": "code",
   "execution_count": null,
   "metadata": {},
   "outputs": [],
   "source": [
    "sorted(cont)"
   ]
  },
  {
   "cell_type": "code",
   "execution_count": null,
   "metadata": {},
   "outputs": [],
   "source": [
    "ex.contentLength.plot()"
   ]
  },
  {
   "cell_type": "markdown",
   "metadata": {},
   "source": [
    "#### Remove url duplicates"
   ]
  },
  {
   "cell_type": "code",
   "execution_count": 51,
   "metadata": {},
   "outputs": [],
   "source": [
    "df_dupliless = df.loc[~df.duplicated(subset=['url'])]"
   ]
  },
  {
   "cell_type": "code",
   "execution_count": 52,
   "metadata": {},
   "outputs": [
    {
     "data": {
      "text/plain": [
       "(139495, 8)"
      ]
     },
     "execution_count": 52,
     "metadata": {},
     "output_type": "execute_result"
    }
   ],
   "source": [
    "df_dupliless.shape"
   ]
  },
  {
   "cell_type": "code",
   "execution_count": null,
   "metadata": {},
   "outputs": [],
   "source": [
    "df_dupliless"
   ]
  },
  {
   "cell_type": "code",
   "execution_count": 54,
   "metadata": {},
   "outputs": [],
   "source": [
    "df_normal = df_dupliless.loc[df_dupliless.compromissionType.str.contains('normal')]\n",
    "df_defacement = df_dupliless.loc[df_dupliless.compromissionType.str.contains('defacement')]\n",
    "df_phishing = df_dupliless.loc[df_dupliless.compromissionType.str.contains('phishing')]"
   ]
  },
  {
   "cell_type": "code",
   "execution_count": 58,
   "metadata": {},
   "outputs": [
    {
     "data": {
      "text/plain": [
       "3637"
      ]
     },
     "execution_count": 58,
     "metadata": {},
     "output_type": "execute_result"
    }
   ],
   "source": [
    "len(df_normal)"
   ]
  },
  {
   "cell_type": "code",
   "execution_count": 60,
   "metadata": {},
   "outputs": [
    {
     "data": {
      "text/plain": [
       "40493"
      ]
     },
     "execution_count": 60,
     "metadata": {},
     "output_type": "execute_result"
    }
   ],
   "source": [
    "len(df_phishing)"
   ]
  },
  {
   "cell_type": "code",
   "execution_count": 59,
   "metadata": {},
   "outputs": [
    {
     "data": {
      "text/plain": [
       "95365"
      ]
     },
     "execution_count": 59,
     "metadata": {},
     "output_type": "execute_result"
    }
   ],
   "source": [
    "len(df_defacement)"
   ]
  },
  {
   "cell_type": "markdown",
   "metadata": {},
   "source": [
    "#### Comparison between original and without duplicates"
   ]
  },
  {
   "cell_type": "code",
   "execution_count": 116,
   "metadata": {},
   "outputs": [
    {
     "data": {
      "text/html": [
       "<div>\n",
       "<style scoped>\n",
       "    .dataframe tbody tr th:only-of-type {\n",
       "        vertical-align: middle;\n",
       "    }\n",
       "\n",
       "    .dataframe tbody tr th {\n",
       "        vertical-align: top;\n",
       "    }\n",
       "\n",
       "    .dataframe thead th {\n",
       "        text-align: right;\n",
       "    }\n",
       "</style>\n",
       "<table border=\"1\" class=\"dataframe\">\n",
       "  <thead>\n",
       "    <tr style=\"text-align: right;\">\n",
       "      <th></th>\n",
       "      <th>compromissionType</th>\n",
       "      <th>isHiddenFraudulent</th>\n",
       "      <th>url</th>\n",
       "    </tr>\n",
       "  </thead>\n",
       "  <tbody>\n",
       "    <tr>\n",
       "      <th>0</th>\n",
       "      <td>defacement</td>\n",
       "      <td>False</td>\n",
       "      <td>93244</td>\n",
       "    </tr>\n",
       "    <tr>\n",
       "      <th>1</th>\n",
       "      <td>defacement</td>\n",
       "      <td>True</td>\n",
       "      <td>2121</td>\n",
       "    </tr>\n",
       "    <tr>\n",
       "      <th>2</th>\n",
       "      <td>normal</td>\n",
       "      <td>False</td>\n",
       "      <td>3637</td>\n",
       "    </tr>\n",
       "    <tr>\n",
       "      <th>3</th>\n",
       "      <td>phishing</td>\n",
       "      <td>False</td>\n",
       "      <td>33964</td>\n",
       "    </tr>\n",
       "    <tr>\n",
       "      <th>4</th>\n",
       "      <td>phishing</td>\n",
       "      <td>True</td>\n",
       "      <td>6529</td>\n",
       "    </tr>\n",
       "  </tbody>\n",
       "</table>\n",
       "</div>"
      ],
      "text/plain": [
       "  compromissionType  isHiddenFraudulent    url\n",
       "0        defacement               False  93244\n",
       "1        defacement                True   2121\n",
       "2            normal               False   3637\n",
       "3          phishing               False  33964\n",
       "4          phishing                True   6529"
      ]
     },
     "execution_count": 116,
     "metadata": {},
     "output_type": "execute_result"
    }
   ],
   "source": [
    "df_dupliless.groupby(['compromissionType','isHiddenFraudulent']).url.count().reset_index()"
   ]
  },
  {
   "cell_type": "code",
   "execution_count": 67,
   "metadata": {},
   "outputs": [
    {
     "data": {
      "text/html": [
       "<div>\n",
       "<style scoped>\n",
       "    .dataframe tbody tr th:only-of-type {\n",
       "        vertical-align: middle;\n",
       "    }\n",
       "\n",
       "    .dataframe tbody tr th {\n",
       "        vertical-align: top;\n",
       "    }\n",
       "\n",
       "    .dataframe thead th {\n",
       "        text-align: right;\n",
       "    }\n",
       "</style>\n",
       "<table border=\"1\" class=\"dataframe\">\n",
       "  <thead>\n",
       "    <tr style=\"text-align: right;\">\n",
       "      <th></th>\n",
       "      <th>compromissionType</th>\n",
       "      <th>isHiddenFraudulent</th>\n",
       "      <th>url</th>\n",
       "    </tr>\n",
       "  </thead>\n",
       "  <tbody>\n",
       "    <tr>\n",
       "      <th>0</th>\n",
       "      <td>defacement</td>\n",
       "      <td>False</td>\n",
       "      <td>94370</td>\n",
       "    </tr>\n",
       "    <tr>\n",
       "      <th>1</th>\n",
       "      <td>defacement</td>\n",
       "      <td>True</td>\n",
       "      <td>2144</td>\n",
       "    </tr>\n",
       "    <tr>\n",
       "      <th>2</th>\n",
       "      <td>normal</td>\n",
       "      <td>False</td>\n",
       "      <td>3713</td>\n",
       "    </tr>\n",
       "    <tr>\n",
       "      <th>3</th>\n",
       "      <td>phishing</td>\n",
       "      <td>False</td>\n",
       "      <td>78388</td>\n",
       "    </tr>\n",
       "    <tr>\n",
       "      <th>4</th>\n",
       "      <td>phishing</td>\n",
       "      <td>True</td>\n",
       "      <td>6565</td>\n",
       "    </tr>\n",
       "  </tbody>\n",
       "</table>\n",
       "</div>"
      ],
      "text/plain": [
       "  compromissionType  isHiddenFraudulent    url\n",
       "0        defacement               False  94370\n",
       "1        defacement                True   2144\n",
       "2            normal               False   3713\n",
       "3          phishing               False  78388\n",
       "4          phishing                True   6565"
      ]
     },
     "execution_count": 67,
     "metadata": {},
     "output_type": "execute_result"
    }
   ],
   "source": [
    "df.groupby(['compromissionType','isHiddenFraudulent']).url.count().reset_index()"
   ]
  },
  {
   "cell_type": "code",
   "execution_count": null,
   "metadata": {},
   "outputs": [],
   "source": [
    "df_dupliless.loc[df_dupliless.contentLength > 0].groupby(['isHiddenFraudulent']).url.count()"
   ]
  },
  {
   "cell_type": "code",
   "execution_count": null,
   "metadata": {},
   "outputs": [],
   "source": [
    "df_dupliless.loc[df_dupliless.contentLength == 0].groupby(['isHiddenFraudulent']).url.count()"
   ]
  },
  {
   "cell_type": "code",
   "execution_count": null,
   "metadata": {},
   "outputs": [],
   "source": [
    "#1500 serverType missing\n",
    "df_dupliless.loc[df_dupliless.serverType.isnull()]"
   ]
  },
  {
   "cell_type": "code",
   "execution_count": null,
   "metadata": {},
   "outputs": [],
   "source": [
    "df_dupliless.loc[df_dupliless.contentType.isnull()]"
   ]
  }
 ],
 "metadata": {
  "kernelspec": {
   "display_name": "Python 3",
   "language": "python",
   "name": "python3"
  },
  "language_info": {
   "codemirror_mode": {
    "name": "ipython",
    "version": 3
   },
   "file_extension": ".py",
   "mimetype": "text/x-python",
   "name": "python",
   "nbconvert_exporter": "python",
   "pygments_lexer": "ipython3",
   "version": "3.7.0"
  }
 },
 "nbformat": 4,
 "nbformat_minor": 2
}
