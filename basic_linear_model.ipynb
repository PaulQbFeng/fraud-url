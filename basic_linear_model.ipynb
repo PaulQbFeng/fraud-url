{
 "cells": [
  {
   "cell_type": "code",
   "execution_count": 1,
   "metadata": {},
   "outputs": [
    {
     "name": "stdout",
     "output_type": "stream",
     "text": [
      "1.8.0\n"
     ]
    }
   ],
   "source": [
    "import shutil\n",
    "import numpy as np\n",
    "import pandas as pd\n",
    "import tensorflow as tf\n",
    "print(tf.__version__)"
   ]
  },
  {
   "cell_type": "code",
   "execution_count": 21,
   "metadata": {},
   "outputs": [],
   "source": [
    "train_df = pd.read_csv('./train.csv', sep=',')\n",
    "eval_df = pd.read_csv('./eval.csv', sep=',')\n",
    "test_df = pd.read_csv('./test.csv', sep=',')"
   ]
  },
  {
   "cell_type": "code",
   "execution_count": 22,
   "metadata": {},
   "outputs": [
    {
     "data": {
      "text/plain": [
       "isHiddenFraudulent\n",
       "False    91720\n",
       "True     90612\n",
       "Name: url, dtype: int64"
      ]
     },
     "execution_count": 22,
     "metadata": {},
     "output_type": "execute_result"
    }
   ],
   "source": [
    "train_df.groupby(['isHiddenFraudulent']).url.count()"
   ]
  },
  {
   "cell_type": "code",
   "execution_count": 23,
   "metadata": {},
   "outputs": [],
   "source": [
    "def add_more_features(dataframe):\n",
    "    df = dataframe.copy()\n",
    "    df['url_length'] = df['url'].apply(lambda x:len(x))    \n",
    "    return df"
   ]
  },
  {
   "cell_type": "code",
   "execution_count": 26,
   "metadata": {},
   "outputs": [],
   "source": [
    "# Create pandas input function\n",
    "def make_train_input_fn(df, num_epochs):\n",
    "    return tf.estimator.inputs.pandas_input_fn(\n",
    "        x = add_more_features(df),\n",
    "        y = df['isHiddenFraudulent'],\n",
    "        batch_size = 256,\n",
    "        num_epochs = num_epochs,\n",
    "        shuffle = True,\n",
    "        queue_capacity = 1024,\n",
    "        num_threads = 1\n",
    "    )"
   ]
  },
  {
   "cell_type": "code",
   "execution_count": 27,
   "metadata": {},
   "outputs": [],
   "source": [
    "def make_valid_input_fn(df):\n",
    "    return tf.estimator.inputs.pandas_input_fn(\n",
    "        x = add_more_features(df),\n",
    "        y = df['isHiddenFraudulent'], \n",
    "        batch_size = 256,\n",
    "        num_epochs = 1,\n",
    "        shuffle = False,\n",
    "        queue_capacity = 1024,\n",
    "        num_threads = 1\n",
    "    )"
   ]
  },
  {
   "cell_type": "code",
   "execution_count": 28,
   "metadata": {},
   "outputs": [],
   "source": [
    "def make_test_input_fn(df):\n",
    "    return tf.estimator.inputs.pandas_input_fn(\n",
    "        x = add_more_features(df),\n",
    "        batch_size = 256,\n",
    "        num_epochs = 1,\n",
    "        shuffle = False,\n",
    "        queue_capacity = 1024,\n",
    "        num_threads = 1\n",
    "    )"
   ]
  },
  {
   "cell_type": "code",
   "execution_count": 57,
   "metadata": {},
   "outputs": [],
   "source": [
    "def create_feature_cols():\n",
    "    cols = [tf.feature_column.numeric_column('url_length')]\n",
    "    #try bucketize url_length 5 \n",
    "    return cols \n",
    "\n",
    "feature_cols = create_feature_cols()"
   ]
  },
  {
   "cell_type": "code",
   "execution_count": 97,
   "metadata": {},
   "outputs": [],
   "source": [
    "def serving_input_fn():\n",
    "    \n",
    "    def get_length(single_string):\n",
    "        x = tf.expand_dims(single_string,0)\n",
    "        splitted = tf.string_split(x, delimiter=\"\").values\n",
    "        length = tf.size(splitted)\n",
    "        return length\n",
    "\n",
    "    def get_lengths(string_batch):\n",
    "        return tf.map_fn(get_length, string_batch, dtype=tf.int32)\n",
    "    \n",
    "    json_feature_placeholders = {\n",
    "        'url': tf.placeholder(tf.string, None),\n",
    "    }\n",
    "    \n",
    "    features = {\n",
    "        'url_length': get_lengths(json_feature_placeholders['url'])\n",
    "    }    \n",
    "\n",
    "    return tf.estimator.export.ServingInputReceiver(features, json_feature_placeholders)"
   ]
  },
  {
   "cell_type": "code",
   "execution_count": 98,
   "metadata": {},
   "outputs": [],
   "source": [
    "# Create estimator train and evaluate function\n",
    "def train_and_evaluate(output_dir, num_train_steps):\n",
    "    run_config = tf.estimator.RunConfig(model_dir=output_dir, \n",
    "                                      keep_checkpoint_max=10,\n",
    "                                      save_summary_steps=100, \n",
    "                                      save_checkpoints_steps=200)\n",
    "\n",
    "    estimator = tf.estimator.LinearClassifier(feature_columns=feature_cols, \n",
    "                                           config=run_config)\n",
    "\n",
    "    #   estimator = tf.estimator.DNNRegressor(feature_columns=feature_cols, hidden_units=[32,8,2],\n",
    "    #                                        config=run_config)\n",
    "\n",
    "    train_spec = tf.estimator.TrainSpec(input_fn=make_train_input_fn(a, 10), \n",
    "                                      max_steps=num_train_steps)\n",
    "\n",
    "    export_latest = tf.estimator.LatestExporter(name='linear', \n",
    "                                              serving_input_receiver_fn=serving_input_fn)\n",
    "\n",
    "    eval_spec = tf.estimator.EvalSpec(input_fn=make_valid_input_fn(b), \n",
    "                                    steps=None,\n",
    "                                    start_delay_secs = 1, # start evaluating after N seconds\n",
    "                                    throttle_secs = 50,     # evaluate every N seconds\n",
    "                                    exporters=export_latest\n",
    "                                    )\n",
    "\n",
    "    tf.estimator.train_and_evaluate(estimator, train_spec, eval_spec)"
   ]
  },
  {
   "cell_type": "code",
   "execution_count": 99,
   "metadata": {},
   "outputs": [],
   "source": [
    "a = train_df.drop(['poweredBy', 'serverType', 'lastModified', 'contentType'], axis=1)\n",
    "b = eval_df.drop(['poweredBy', 'serverType', 'lastModified', 'contentType'], axis=1)"
   ]
  },
  {
   "cell_type": "code",
   "execution_count": 100,
   "metadata": {},
   "outputs": [],
   "source": [
    "outdir = '../trained_model/url_len/'"
   ]
  },
  {
   "cell_type": "code",
   "execution_count": 101,
   "metadata": {},
   "outputs": [
    {
     "name": "stdout",
     "output_type": "stream",
     "text": [
      "INFO:tensorflow:Using config: {'_model_dir': '../trained_model/url_len/', '_tf_random_seed': None, '_save_summary_steps': 100, '_save_checkpoints_steps': 200, '_save_checkpoints_secs': None, '_session_config': None, '_keep_checkpoint_max': 10, '_keep_checkpoint_every_n_hours': 10000, '_log_step_count_steps': 100, '_train_distribute': None, '_service': None, '_cluster_spec': <tensorflow.python.training.server_lib.ClusterSpec object at 0x12dd5e898>, '_task_type': 'worker', '_task_id': 0, '_global_id_in_cluster': 0, '_master': '', '_evaluation_master': '', '_is_chief': True, '_num_ps_replicas': 0, '_num_worker_replicas': 1}\n",
      "INFO:tensorflow:Running training and evaluation locally (non-distributed).\n",
      "INFO:tensorflow:Start train and evaluate loop. The evaluate will happen after 50 secs (eval_spec.throttle_secs) or training is finished.\n",
      "INFO:tensorflow:Calling model_fn.\n",
      "INFO:tensorflow:Done calling model_fn.\n",
      "INFO:tensorflow:Create CheckpointSaverHook.\n",
      "INFO:tensorflow:Graph was finalized.\n",
      "INFO:tensorflow:Running local_init_op.\n",
      "INFO:tensorflow:Done running local_init_op.\n",
      "INFO:tensorflow:Saving checkpoints for 1 into ../trained_model/url_len/model.ckpt.\n",
      "INFO:tensorflow:loss = 177.44576, step = 1\n",
      "INFO:tensorflow:global_step/sec: 272.598\n",
      "INFO:tensorflow:loss = 202.36877, step = 101 (0.369 sec)\n",
      "INFO:tensorflow:Saving checkpoints for 201 into ../trained_model/url_len/model.ckpt.\n",
      "INFO:tensorflow:global_step/sec: 313.22\n",
      "INFO:tensorflow:loss = 170.5315, step = 201 (0.318 sec)\n",
      "INFO:tensorflow:global_step/sec: 335.294\n",
      "INFO:tensorflow:loss = 178.35446, step = 301 (0.300 sec)\n",
      "INFO:tensorflow:Saving checkpoints for 401 into ../trained_model/url_len/model.ckpt.\n",
      "INFO:tensorflow:global_step/sec: 329.383\n",
      "INFO:tensorflow:loss = 174.06677, step = 401 (0.302 sec)\n",
      "INFO:tensorflow:global_step/sec: 384.29\n",
      "INFO:tensorflow:loss = 174.34631, step = 501 (0.261 sec)\n",
      "INFO:tensorflow:Saving checkpoints for 601 into ../trained_model/url_len/model.ckpt.\n",
      "INFO:tensorflow:global_step/sec: 340.741\n",
      "INFO:tensorflow:loss = 167.94681, step = 601 (0.292 sec)\n",
      "INFO:tensorflow:global_step/sec: 352.09\n",
      "INFO:tensorflow:loss = 176.06921, step = 701 (0.284 sec)\n",
      "INFO:tensorflow:Saving checkpoints for 801 into ../trained_model/url_len/model.ckpt.\n",
      "INFO:tensorflow:global_step/sec: 313.057\n",
      "INFO:tensorflow:loss = 178.46628, step = 801 (0.320 sec)\n",
      "INFO:tensorflow:global_step/sec: 342.791\n",
      "INFO:tensorflow:loss = 173.45187, step = 901 (0.294 sec)\n",
      "INFO:tensorflow:Saving checkpoints for 1000 into ../trained_model/url_len/model.ckpt.\n",
      "INFO:tensorflow:Loss for final step: 169.40167.\n",
      "INFO:tensorflow:Calling model_fn.\n",
      "WARNING:tensorflow:Trapezoidal rule is known to produce incorrect PR-AUCs; please switch to \"careful_interpolation\" instead.\n",
      "WARNING:tensorflow:Trapezoidal rule is known to produce incorrect PR-AUCs; please switch to \"careful_interpolation\" instead.\n",
      "INFO:tensorflow:Done calling model_fn.\n",
      "INFO:tensorflow:Starting evaluation at 2019-03-12-16:38:46\n",
      "INFO:tensorflow:Graph was finalized.\n",
      "INFO:tensorflow:Restoring parameters from ../trained_model/url_len/model.ckpt-1000\n",
      "INFO:tensorflow:Running local_init_op.\n",
      "INFO:tensorflow:Done running local_init_op.\n",
      "INFO:tensorflow:Finished evaluation at 2019-03-12-16:38:47\n",
      "INFO:tensorflow:Saving dict for global step 1000: accuracy = 0.53234786, accuracy_baseline = 0.5037596, auc = 0.44534957, auc_precision_recall = 0.57901204, average_loss = 0.6728381, global_step = 1000, label/mean = 0.4962404, loss = 171.36263, precision = 0.55333203, prediction/mean = 0.49436173, recall = 0.29885712\n",
      "INFO:tensorflow:Calling model_fn.\n",
      "INFO:tensorflow:Done calling model_fn.\n",
      "INFO:tensorflow:Signatures INCLUDED in export for Classify: ['serving_default', 'classification']\n",
      "INFO:tensorflow:Signatures INCLUDED in export for Regress: ['regression']\n",
      "INFO:tensorflow:Signatures INCLUDED in export for Predict: ['predict']\n",
      "INFO:tensorflow:Restoring parameters from ../trained_model/url_len/model.ckpt-1000\n",
      "INFO:tensorflow:Assets added to graph.\n",
      "INFO:tensorflow:No assets to write.\n",
      "INFO:tensorflow:SavedModel written to: b\"../trained_model/url_len/export/linear/temp-b'1552408727'/saved_model.pb\"\n"
     ]
    }
   ],
   "source": [
    "shutil.rmtree(outdir, ignore_errors = True)\n",
    "train_and_evaluate(outdir, 1000)"
   ]
  },
  {
   "cell_type": "code",
   "execution_count": 102,
   "metadata": {},
   "outputs": [
    {
     "name": "stdout",
     "output_type": "stream",
     "text": [
      "Overwriting url.json\n"
     ]
    }
   ],
   "source": [
    "%%writefile url.json\n",
    "{\"url\": \"https://github.com/warmspringwinds/tf-image-segmentation/issues/10\"}\n",
    "{\"url\": \"https://github.com/warmspringwinds/tf-image-segmentation/issues/0\"}"
   ]
  },
  {
   "cell_type": "code",
   "execution_count": 103,
   "metadata": {},
   "outputs": [
    {
     "name": "stderr",
     "output_type": "stream",
     "text": [
      "DEBUG: Running [gcloud.ml-engine.local.predict] with arguments: [--json-instances: \"url.json\", --model-dir: \"/Users/paul/Desktop/Google_ASL/trained_model/url_len/export/linear/1552408727\", --verbosity: \"debug\"]\n",
      "DEBUG: (gcloud.ml-engine.local.predict) 2019-03-12 16:39:02.838389: I tensorflow/core/platform/cpu_feature_guard.cc:140] Your CPU supports instructions that this TensorFlow binary was not compiled to use: AVX2 FMA\n",
      "Traceback (most recent call last):\n",
      "  File \"/Users/paul/google-cloud-sdk/lib/googlecloudsdk/command_lib/ml_engine/local_predict.py\", line 184, in <module>\n",
      "    main()\n",
      "  File \"/Users/paul/google-cloud-sdk/lib/googlecloudsdk/command_lib/ml_engine/local_predict.py\", line 179, in main\n",
      "    signature_name=args.signature_name)\n",
      "  File \"/Users/paul/google-cloud-sdk/lib/third_party/ml_sdk/cloud/ml/prediction/prediction_lib.py\", line 101, in local_predict\n",
      "    predictions = model.predict(instances, signature_name=signature_name)\n",
      "  File \"/Users/paul/google-cloud-sdk/lib/third_party/ml_sdk/cloud/ml/prediction/prediction_utils.py\", line 248, in predict\n",
      "    preprocessed = self.preprocess(instances, stats=stats, **kwargs)\n",
      "  File \"/Users/paul/google-cloud-sdk/lib/third_party/ml_sdk/cloud/ml/prediction/frameworks/tf_prediction_lib.py\", line 436, in preprocess\n",
      "    preprocessed = self._canonicalize_input(instances, signature)\n",
      "  File \"/Users/paul/google-cloud-sdk/lib/third_party/ml_sdk/cloud/ml/prediction/frameworks/tf_prediction_lib.py\", line 453, in _canonicalize_input\n",
      "    return canonicalize_single_tensor_input(instances, tensor_name)\n",
      "  File \"/Users/paul/google-cloud-sdk/lib/third_party/ml_sdk/cloud/ml/prediction/frameworks/tf_prediction_lib.py\", line 166, in canonicalize_single_tensor_input\n",
      "    instances = [parse_single_tensor(x, tensor_name) for x in instances]\n",
      "  File \"/Users/paul/google-cloud-sdk/lib/third_party/ml_sdk/cloud/ml/prediction/frameworks/tf_prediction_lib.py\", line 166, in <listcomp>\n",
      "    instances = [parse_single_tensor(x, tensor_name) for x in instances]\n",
      "  File \"/Users/paul/google-cloud-sdk/lib/third_party/ml_sdk/cloud/ml/prediction/frameworks/tf_prediction_lib.py\", line 162, in parse_single_tensor\n",
      "    (tensor_name, list(x.keys())))\n",
      "cloud.ml.prediction.prediction_utils.PredictionError: Invalid inputs: Expected tensor name: inputs, got tensor name: ['url']. (Error code: 1)\n",
      "Traceback (most recent call last):\n",
      "  File \"/Users/paul/google-cloud-sdk/lib/googlecloudsdk/calliope/cli.py\", line 841, in Execute\n",
      "    resources = calliope_command.Run(cli=self, args=args)\n",
      "  File \"/Users/paul/google-cloud-sdk/lib/googlecloudsdk/calliope/backend.py\", line 770, in Run\n",
      "    resources = command_instance.Run(args)\n",
      "  File \"/Users/paul/google-cloud-sdk/lib/surface/ml_engine/local/predict.py\", line 79, in Run\n",
      "    signature_name=args.signature_name)\n",
      "  File \"/Users/paul/google-cloud-sdk/lib/googlecloudsdk/command_lib/ml_engine/local_utils.py\", line 110, in RunPredict\n",
      "    raise LocalPredictRuntimeError(err)\n",
      "LocalPredictRuntimeError: 2019-03-12 16:39:02.838389: I tensorflow/core/platform/cpu_feature_guard.cc:140] Your CPU supports instructions that this TensorFlow binary was not compiled to use: AVX2 FMA\n",
      "Traceback (most recent call last):\n",
      "  File \"/Users/paul/google-cloud-sdk/lib/googlecloudsdk/command_lib/ml_engine/local_predict.py\", line 184, in <module>\n",
      "    main()\n",
      "  File \"/Users/paul/google-cloud-sdk/lib/googlecloudsdk/command_lib/ml_engine/local_predict.py\", line 179, in main\n",
      "    signature_name=args.signature_name)\n",
      "  File \"/Users/paul/google-cloud-sdk/lib/third_party/ml_sdk/cloud/ml/prediction/prediction_lib.py\", line 101, in local_predict\n",
      "    predictions = model.predict(instances, signature_name=signature_name)\n",
      "  File \"/Users/paul/google-cloud-sdk/lib/third_party/ml_sdk/cloud/ml/prediction/prediction_utils.py\", line 248, in predict\n",
      "    preprocessed = self.preprocess(instances, stats=stats, **kwargs)\n",
      "  File \"/Users/paul/google-cloud-sdk/lib/third_party/ml_sdk/cloud/ml/prediction/frameworks/tf_prediction_lib.py\", line 436, in preprocess\n",
      "    preprocessed = self._canonicalize_input(instances, signature)\n",
      "  File \"/Users/paul/google-cloud-sdk/lib/third_party/ml_sdk/cloud/ml/prediction/frameworks/tf_prediction_lib.py\", line 453, in _canonicalize_input\n",
      "    return canonicalize_single_tensor_input(instances, tensor_name)\n",
      "  File \"/Users/paul/google-cloud-sdk/lib/third_party/ml_sdk/cloud/ml/prediction/frameworks/tf_prediction_lib.py\", line 166, in canonicalize_single_tensor_input\n",
      "    instances = [parse_single_tensor(x, tensor_name) for x in instances]\n",
      "  File \"/Users/paul/google-cloud-sdk/lib/third_party/ml_sdk/cloud/ml/prediction/frameworks/tf_prediction_lib.py\", line 166, in <listcomp>\n",
      "    instances = [parse_single_tensor(x, tensor_name) for x in instances]\n",
      "  File \"/Users/paul/google-cloud-sdk/lib/third_party/ml_sdk/cloud/ml/prediction/frameworks/tf_prediction_lib.py\", line 162, in parse_single_tensor\n",
      "    (tensor_name, list(x.keys())))\n",
      "cloud.ml.prediction.prediction_utils.PredictionError: Invalid inputs: Expected tensor name: inputs, got tensor name: ['url']. (Error code: 1)\n",
      "\n",
      "ERROR: (gcloud.ml-engine.local.predict) 2019-03-12 16:39:02.838389: I tensorflow/core/platform/cpu_feature_guard.cc:140] Your CPU supports instructions that this TensorFlow binary was not compiled to use: AVX2 FMA\n",
      "Traceback (most recent call last):\n",
      "  File \"/Users/paul/google-cloud-sdk/lib/googlecloudsdk/command_lib/ml_engine/local_predict.py\", line 184, in <module>\n",
      "    main()\n",
      "  File \"/Users/paul/google-cloud-sdk/lib/googlecloudsdk/command_lib/ml_engine/local_predict.py\", line 179, in main\n",
      "    signature_name=args.signature_name)\n",
      "  File \"/Users/paul/google-cloud-sdk/lib/third_party/ml_sdk/cloud/ml/prediction/prediction_lib.py\", line 101, in local_predict\n",
      "    predictions = model.predict(instances, signature_name=signature_name)\n",
      "  File \"/Users/paul/google-cloud-sdk/lib/third_party/ml_sdk/cloud/ml/prediction/prediction_utils.py\", line 248, in predict\n",
      "    preprocessed = self.preprocess(instances, stats=stats, **kwargs)\n",
      "  File \"/Users/paul/google-cloud-sdk/lib/third_party/ml_sdk/cloud/ml/prediction/frameworks/tf_prediction_lib.py\", line 436, in preprocess\n",
      "    preprocessed = self._canonicalize_input(instances, signature)\n",
      "  File \"/Users/paul/google-cloud-sdk/lib/third_party/ml_sdk/cloud/ml/prediction/frameworks/tf_prediction_lib.py\", line 453, in _canonicalize_input\n",
      "    return canonicalize_single_tensor_input(instances, tensor_name)\n",
      "  File \"/Users/paul/google-cloud-sdk/lib/third_party/ml_sdk/cloud/ml/prediction/frameworks/tf_prediction_lib.py\", line 166, in canonicalize_single_tensor_input\n",
      "    instances = [parse_single_tensor(x, tensor_name) for x in instances]\n",
      "  File \"/Users/paul/google-cloud-sdk/lib/third_party/ml_sdk/cloud/ml/prediction/frameworks/tf_prediction_lib.py\", line 166, in <listcomp>\n",
      "    instances = [parse_single_tensor(x, tensor_name) for x in instances]\n",
      "  File \"/Users/paul/google-cloud-sdk/lib/third_party/ml_sdk/cloud/ml/prediction/frameworks/tf_prediction_lib.py\", line 162, in parse_single_tensor\n",
      "    (tensor_name, list(x.keys())))\n",
      "cloud.ml.prediction.prediction_utils.PredictionError: Invalid inputs: Expected tensor name: inputs, got tensor name: ['url']. (Error code: 1)\n",
      "\n"
     ]
    },
    {
     "ename": "CalledProcessError",
     "evalue": "Command 'b'\\nlocation=/Users/paul/Desktop/Google_ASL/trained_model/url_len/export/linear/1552408727\\n\\ngcloud ml-engine local predict --model-dir=$location --json-instances=url.json --verbosity debug \\n'' returned non-zero exit status 1.",
     "output_type": "error",
     "traceback": [
      "\u001b[0;31m---------------------------------------------------------------------------\u001b[0m",
      "\u001b[0;31mCalledProcessError\u001b[0m                        Traceback (most recent call last)",
      "\u001b[0;32m<ipython-input-103-9ff506c2f7f9>\u001b[0m in \u001b[0;36m<module>\u001b[0;34m\u001b[0m\n\u001b[0;32m----> 1\u001b[0;31m \u001b[0mget_ipython\u001b[0m\u001b[0;34m(\u001b[0m\u001b[0;34m)\u001b[0m\u001b[0;34m.\u001b[0m\u001b[0mrun_cell_magic\u001b[0m\u001b[0;34m(\u001b[0m\u001b[0;34m'bash'\u001b[0m\u001b[0;34m,\u001b[0m \u001b[0;34m''\u001b[0m\u001b[0;34m,\u001b[0m \u001b[0;34m'\\nlocation=/Users/paul/Desktop/Google_ASL/trained_model/url_len/export/linear/1552408727\\n\\ngcloud ml-engine local predict --model-dir=$location --json-instances=url.json --verbosity debug \\n'\u001b[0m\u001b[0;34m)\u001b[0m\u001b[0;34m\u001b[0m\u001b[0;34m\u001b[0m\u001b[0m\n\u001b[0m",
      "\u001b[0;32m~/miniconda3/envs/fraud-url/lib/python3.6/site-packages/IPython/core/interactiveshell.py\u001b[0m in \u001b[0;36mrun_cell_magic\u001b[0;34m(self, magic_name, line, cell)\u001b[0m\n\u001b[1;32m   2345\u001b[0m                 \u001b[0mmagic_arg_s\u001b[0m \u001b[0;34m=\u001b[0m \u001b[0mself\u001b[0m\u001b[0;34m.\u001b[0m\u001b[0mvar_expand\u001b[0m\u001b[0;34m(\u001b[0m\u001b[0mline\u001b[0m\u001b[0;34m,\u001b[0m \u001b[0mstack_depth\u001b[0m\u001b[0;34m)\u001b[0m\u001b[0;34m\u001b[0m\u001b[0;34m\u001b[0m\u001b[0m\n\u001b[1;32m   2346\u001b[0m             \u001b[0;32mwith\u001b[0m \u001b[0mself\u001b[0m\u001b[0;34m.\u001b[0m\u001b[0mbuiltin_trap\u001b[0m\u001b[0;34m:\u001b[0m\u001b[0;34m\u001b[0m\u001b[0;34m\u001b[0m\u001b[0m\n\u001b[0;32m-> 2347\u001b[0;31m                 \u001b[0mresult\u001b[0m \u001b[0;34m=\u001b[0m \u001b[0mfn\u001b[0m\u001b[0;34m(\u001b[0m\u001b[0mmagic_arg_s\u001b[0m\u001b[0;34m,\u001b[0m \u001b[0mcell\u001b[0m\u001b[0;34m)\u001b[0m\u001b[0;34m\u001b[0m\u001b[0;34m\u001b[0m\u001b[0m\n\u001b[0m\u001b[1;32m   2348\u001b[0m             \u001b[0;32mreturn\u001b[0m \u001b[0mresult\u001b[0m\u001b[0;34m\u001b[0m\u001b[0;34m\u001b[0m\u001b[0m\n\u001b[1;32m   2349\u001b[0m \u001b[0;34m\u001b[0m\u001b[0m\n",
      "\u001b[0;32m~/miniconda3/envs/fraud-url/lib/python3.6/site-packages/IPython/core/magics/script.py\u001b[0m in \u001b[0;36mnamed_script_magic\u001b[0;34m(line, cell)\u001b[0m\n\u001b[1;32m    140\u001b[0m             \u001b[0;32melse\u001b[0m\u001b[0;34m:\u001b[0m\u001b[0;34m\u001b[0m\u001b[0;34m\u001b[0m\u001b[0m\n\u001b[1;32m    141\u001b[0m                 \u001b[0mline\u001b[0m \u001b[0;34m=\u001b[0m \u001b[0mscript\u001b[0m\u001b[0;34m\u001b[0m\u001b[0;34m\u001b[0m\u001b[0m\n\u001b[0;32m--> 142\u001b[0;31m             \u001b[0;32mreturn\u001b[0m \u001b[0mself\u001b[0m\u001b[0;34m.\u001b[0m\u001b[0mshebang\u001b[0m\u001b[0;34m(\u001b[0m\u001b[0mline\u001b[0m\u001b[0;34m,\u001b[0m \u001b[0mcell\u001b[0m\u001b[0;34m)\u001b[0m\u001b[0;34m\u001b[0m\u001b[0;34m\u001b[0m\u001b[0m\n\u001b[0m\u001b[1;32m    143\u001b[0m \u001b[0;34m\u001b[0m\u001b[0m\n\u001b[1;32m    144\u001b[0m         \u001b[0;31m# write a basic docstring:\u001b[0m\u001b[0;34m\u001b[0m\u001b[0;34m\u001b[0m\u001b[0;34m\u001b[0m\u001b[0m\n",
      "\u001b[0;32m</Users/paul/miniconda3/envs/fraud-url/lib/python3.6/site-packages/decorator.py:decorator-gen-110>\u001b[0m in \u001b[0;36mshebang\u001b[0;34m(self, line, cell)\u001b[0m\n",
      "\u001b[0;32m~/miniconda3/envs/fraud-url/lib/python3.6/site-packages/IPython/core/magic.py\u001b[0m in \u001b[0;36m<lambda>\u001b[0;34m(f, *a, **k)\u001b[0m\n\u001b[1;32m    185\u001b[0m     \u001b[0;31m# but it's overkill for just that one bit of state.\u001b[0m\u001b[0;34m\u001b[0m\u001b[0;34m\u001b[0m\u001b[0;34m\u001b[0m\u001b[0m\n\u001b[1;32m    186\u001b[0m     \u001b[0;32mdef\u001b[0m \u001b[0mmagic_deco\u001b[0m\u001b[0;34m(\u001b[0m\u001b[0marg\u001b[0m\u001b[0;34m)\u001b[0m\u001b[0;34m:\u001b[0m\u001b[0;34m\u001b[0m\u001b[0;34m\u001b[0m\u001b[0m\n\u001b[0;32m--> 187\u001b[0;31m         \u001b[0mcall\u001b[0m \u001b[0;34m=\u001b[0m \u001b[0;32mlambda\u001b[0m \u001b[0mf\u001b[0m\u001b[0;34m,\u001b[0m \u001b[0;34m*\u001b[0m\u001b[0ma\u001b[0m\u001b[0;34m,\u001b[0m \u001b[0;34m**\u001b[0m\u001b[0mk\u001b[0m\u001b[0;34m:\u001b[0m \u001b[0mf\u001b[0m\u001b[0;34m(\u001b[0m\u001b[0;34m*\u001b[0m\u001b[0ma\u001b[0m\u001b[0;34m,\u001b[0m \u001b[0;34m**\u001b[0m\u001b[0mk\u001b[0m\u001b[0;34m)\u001b[0m\u001b[0;34m\u001b[0m\u001b[0;34m\u001b[0m\u001b[0m\n\u001b[0m\u001b[1;32m    188\u001b[0m \u001b[0;34m\u001b[0m\u001b[0m\n\u001b[1;32m    189\u001b[0m         \u001b[0;32mif\u001b[0m \u001b[0mcallable\u001b[0m\u001b[0;34m(\u001b[0m\u001b[0marg\u001b[0m\u001b[0;34m)\u001b[0m\u001b[0;34m:\u001b[0m\u001b[0;34m\u001b[0m\u001b[0;34m\u001b[0m\u001b[0m\n",
      "\u001b[0;32m~/miniconda3/envs/fraud-url/lib/python3.6/site-packages/IPython/core/magics/script.py\u001b[0m in \u001b[0;36mshebang\u001b[0;34m(self, line, cell)\u001b[0m\n\u001b[1;32m    243\u001b[0m             \u001b[0msys\u001b[0m\u001b[0;34m.\u001b[0m\u001b[0mstderr\u001b[0m\u001b[0;34m.\u001b[0m\u001b[0mflush\u001b[0m\u001b[0;34m(\u001b[0m\u001b[0;34m)\u001b[0m\u001b[0;34m\u001b[0m\u001b[0;34m\u001b[0m\u001b[0m\n\u001b[1;32m    244\u001b[0m         \u001b[0;32mif\u001b[0m \u001b[0margs\u001b[0m\u001b[0;34m.\u001b[0m\u001b[0mraise_error\u001b[0m \u001b[0;32mand\u001b[0m \u001b[0mp\u001b[0m\u001b[0;34m.\u001b[0m\u001b[0mreturncode\u001b[0m\u001b[0;34m!=\u001b[0m\u001b[0;36m0\u001b[0m\u001b[0;34m:\u001b[0m\u001b[0;34m\u001b[0m\u001b[0;34m\u001b[0m\u001b[0m\n\u001b[0;32m--> 245\u001b[0;31m             \u001b[0;32mraise\u001b[0m \u001b[0mCalledProcessError\u001b[0m\u001b[0;34m(\u001b[0m\u001b[0mp\u001b[0m\u001b[0;34m.\u001b[0m\u001b[0mreturncode\u001b[0m\u001b[0;34m,\u001b[0m \u001b[0mcell\u001b[0m\u001b[0;34m,\u001b[0m \u001b[0moutput\u001b[0m\u001b[0;34m=\u001b[0m\u001b[0mout\u001b[0m\u001b[0;34m,\u001b[0m \u001b[0mstderr\u001b[0m\u001b[0;34m=\u001b[0m\u001b[0merr\u001b[0m\u001b[0;34m)\u001b[0m\u001b[0;34m\u001b[0m\u001b[0;34m\u001b[0m\u001b[0m\n\u001b[0m\u001b[1;32m    246\u001b[0m \u001b[0;34m\u001b[0m\u001b[0m\n\u001b[1;32m    247\u001b[0m     \u001b[0;32mdef\u001b[0m \u001b[0m_run_script\u001b[0m\u001b[0;34m(\u001b[0m\u001b[0mself\u001b[0m\u001b[0;34m,\u001b[0m \u001b[0mp\u001b[0m\u001b[0;34m,\u001b[0m \u001b[0mcell\u001b[0m\u001b[0;34m,\u001b[0m \u001b[0mto_close\u001b[0m\u001b[0;34m)\u001b[0m\u001b[0;34m:\u001b[0m\u001b[0;34m\u001b[0m\u001b[0;34m\u001b[0m\u001b[0m\n",
      "\u001b[0;31mCalledProcessError\u001b[0m: Command 'b'\\nlocation=/Users/paul/Desktop/Google_ASL/trained_model/url_len/export/linear/1552408727\\n\\ngcloud ml-engine local predict --model-dir=$location --json-instances=url.json --verbosity debug \\n'' returned non-zero exit status 1."
     ]
    }
   ],
   "source": [
    "%%bash\n",
    "\n",
    "location=/Users/paul/Desktop/Google_ASL/trained_model/url_len/export/linear/1552408727\n",
    "\n",
    "gcloud ml-engine local predict --model-dir=$location --json-instances=url.json --verbosity debug "
   ]
  },
  {
   "cell_type": "code",
   "execution_count": 66,
   "metadata": {},
   "outputs": [
    {
     "name": "stdout",
     "output_type": "stream",
     "text": [
      "\u001b[1m\u001b[36m.\u001b[m\u001b[m                                     dataset_no_dupli_no_http.csv\r\n",
      "\u001b[1m\u001b[36m..\u001b[m\u001b[m                                    dataset_no_dupli_no_http_only_url.csv\r\n",
      "\u001b[1m\u001b[36m.git\u001b[m\u001b[m                                  encoding.ipynb\r\n",
      ".gitignore                            eval.csv\r\n",
      "\u001b[1m\u001b[36m.ipynb_checkpoints\u001b[m\u001b[m                    playground.ipynb\r\n",
      "\u001b[31mHiddenFraudulentURLs.csv\u001b[m\u001b[m              test.csv\r\n",
      "README.md                             tokenization.ipynb\r\n",
      "Untitled.ipynb                        train.csv\r\n",
      "analysis_paul.ipynb                   transform_csv_file.ipynb\r\n",
      "basic_linear_model.ipynb              url.json\r\n",
      "data_visualisation.ipynb\r\n"
     ]
    }
   ],
   "source": [
    "!ls -a"
   ]
  },
  {
   "cell_type": "code",
   "execution_count": 178,
   "metadata": {},
   "outputs": [
    {
     "data": {
      "text/plain": [
       "'1.8.0'"
      ]
     },
     "execution_count": 178,
     "metadata": {},
     "output_type": "execute_result"
    }
   ],
   "source": [
    "tf.__version__"
   ]
  }
 ],
 "metadata": {
  "kernelspec": {
   "display_name": "Python 3",
   "language": "python",
   "name": "python3"
  },
  "language_info": {
   "codemirror_mode": {
    "name": "ipython",
    "version": 3
   },
   "file_extension": ".py",
   "mimetype": "text/x-python",
   "name": "python",
   "nbconvert_exporter": "python",
   "pygments_lexer": "ipython3",
   "version": "3.6.8"
  }
 },
 "nbformat": 4,
 "nbformat_minor": 2
}
