{
 "cells": [
  {
   "cell_type": "markdown",
   "metadata": {},
   "source": [
    "#### This notebook was created to perform some datascreening on the raw dataset "
   ]
  },
  {
   "cell_type": "code",
   "execution_count": 103,
   "metadata": {},
   "outputs": [],
   "source": [
    "import os \n",
    "import numpy as np\n",
    "import pandas as pd "
   ]
  },
  {
   "cell_type": "code",
   "execution_count": 16,
   "metadata": {},
   "outputs": [],
   "source": [
    "%matplotlib inline"
   ]
  },
  {
   "cell_type": "markdown",
   "metadata": {},
   "source": [
    "#### Read the file "
   ]
  },
  {
   "cell_type": "code",
   "execution_count": 17,
   "metadata": {},
   "outputs": [],
   "source": [
    "df = pd.read_csv('./data/HiddenFraudulentURLs.csv', sep=';')"
   ]
  },
  {
   "cell_type": "code",
   "execution_count": 59,
   "metadata": {},
   "outputs": [
    {
     "data": {
      "text/html": [
       "<div>\n",
       "<style scoped>\n",
       "    .dataframe tbody tr th:only-of-type {\n",
       "        vertical-align: middle;\n",
       "    }\n",
       "\n",
       "    .dataframe tbody tr th {\n",
       "        vertical-align: top;\n",
       "    }\n",
       "\n",
       "    .dataframe thead th {\n",
       "        text-align: right;\n",
       "    }\n",
       "</style>\n",
       "<table border=\"1\" class=\"dataframe\">\n",
       "  <thead>\n",
       "    <tr style=\"text-align: right;\">\n",
       "      <th></th>\n",
       "      <th>url</th>\n",
       "      <th>compromissionType</th>\n",
       "      <th>isHiddenFraudulent</th>\n",
       "      <th>contentLength</th>\n",
       "      <th>serverType</th>\n",
       "      <th>poweredBy</th>\n",
       "      <th>contentType</th>\n",
       "      <th>lastModified</th>\n",
       "    </tr>\n",
       "  </thead>\n",
       "  <tbody>\n",
       "    <tr>\n",
       "      <th>0</th>\n",
       "      <td>http://www.sinduscongoias.com.br/index.html</td>\n",
       "      <td>defacement</td>\n",
       "      <td>False</td>\n",
       "      <td>2474</td>\n",
       "      <td>Apache/2.2</td>\n",
       "      <td>NaN</td>\n",
       "      <td>text/html</td>\n",
       "      <td>Sat, 05 Jan 2013 19:36:29 GMT</td>\n",
       "    </tr>\n",
       "    <tr>\n",
       "      <th>1</th>\n",
       "      <td>http://www.sinduscongoias.com.br/index.php/ins...</td>\n",
       "      <td>defacement</td>\n",
       "      <td>False</td>\n",
       "      <td>0</td>\n",
       "      <td>Apache/2.2</td>\n",
       "      <td>NaN</td>\n",
       "      <td>text/html; charset=utf-8</td>\n",
       "      <td>Mon, 21 Jan 2013 19:30:53 GMT</td>\n",
       "    </tr>\n",
       "    <tr>\n",
       "      <th>2</th>\n",
       "      <td>http://www.sinduscongoias.com.br/index.php/ins...</td>\n",
       "      <td>defacement</td>\n",
       "      <td>False</td>\n",
       "      <td>0</td>\n",
       "      <td>Apache/2.2</td>\n",
       "      <td>NaN</td>\n",
       "      <td>text/html; charset=utf-8</td>\n",
       "      <td>Mon, 21 Jan 2013 19:30:58 GMT</td>\n",
       "    </tr>\n",
       "    <tr>\n",
       "      <th>3</th>\n",
       "      <td>http://www.sinduscongoias.com.br/index.php/ins...</td>\n",
       "      <td>defacement</td>\n",
       "      <td>False</td>\n",
       "      <td>0</td>\n",
       "      <td>Apache/2.2</td>\n",
       "      <td>NaN</td>\n",
       "      <td>text/html; charset=utf-8</td>\n",
       "      <td>Mon, 21 Jan 2013 19:31:01 GMT</td>\n",
       "    </tr>\n",
       "    <tr>\n",
       "      <th>4</th>\n",
       "      <td>http://www.sinduscongoias.com.br/index.php/ins...</td>\n",
       "      <td>defacement</td>\n",
       "      <td>False</td>\n",
       "      <td>0</td>\n",
       "      <td>Apache/2.2</td>\n",
       "      <td>NaN</td>\n",
       "      <td>text/html; charset=utf-8</td>\n",
       "      <td>Mon, 21 Jan 2013 19:31:05 GMT</td>\n",
       "    </tr>\n",
       "  </tbody>\n",
       "</table>\n",
       "</div>"
      ],
      "text/plain": [
       "                                                 url compromissionType  \\\n",
       "0        http://www.sinduscongoias.com.br/index.html        defacement   \n",
       "1  http://www.sinduscongoias.com.br/index.php/ins...        defacement   \n",
       "2  http://www.sinduscongoias.com.br/index.php/ins...        defacement   \n",
       "3  http://www.sinduscongoias.com.br/index.php/ins...        defacement   \n",
       "4  http://www.sinduscongoias.com.br/index.php/ins...        defacement   \n",
       "\n",
       "   isHiddenFraudulent  contentLength  serverType poweredBy  \\\n",
       "0               False           2474  Apache/2.2       NaN   \n",
       "1               False              0  Apache/2.2       NaN   \n",
       "2               False              0  Apache/2.2       NaN   \n",
       "3               False              0  Apache/2.2       NaN   \n",
       "4               False              0  Apache/2.2       NaN   \n",
       "\n",
       "                contentType                   lastModified  \n",
       "0                 text/html  Sat, 05 Jan 2013 19:36:29 GMT  \n",
       "1  text/html; charset=utf-8  Mon, 21 Jan 2013 19:30:53 GMT  \n",
       "2  text/html; charset=utf-8  Mon, 21 Jan 2013 19:30:58 GMT  \n",
       "3  text/html; charset=utf-8  Mon, 21 Jan 2013 19:31:01 GMT  \n",
       "4  text/html; charset=utf-8  Mon, 21 Jan 2013 19:31:05 GMT  "
      ]
     },
     "execution_count": 59,
     "metadata": {},
     "output_type": "execute_result"
    }
   ],
   "source": [
    "df.head()"
   ]
  },
  {
   "cell_type": "markdown",
   "metadata": {},
   "source": [
    "There are 5 features :\n",
    "- contentLength\n",
    "- serverType\n",
    "- poweredBy\n",
    "- contentType\n",
    "- lastModified\n",
    "\n",
    "and 2 possible targets : \n",
    "- compromissionType\n",
    "- isHiddenFraudulent"
   ]
  },
  {
   "cell_type": "markdown",
   "metadata": {},
   "source": [
    "#### Statistics on targets"
   ]
  },
  {
   "cell_type": "code",
   "execution_count": 60,
   "metadata": {},
   "outputs": [
    {
     "data": {
      "text/plain": [
       "compromissionType\n",
       "defacement    96514\n",
       "normal         3713\n",
       "phishing      84953\n",
       "Name: url, dtype: int64"
      ]
     },
     "execution_count": 60,
     "metadata": {},
     "output_type": "execute_result"
    }
   ],
   "source": [
    "df.groupby(['compromissionType']).url.count()"
   ]
  },
  {
   "cell_type": "code",
   "execution_count": 61,
   "metadata": {},
   "outputs": [
    {
     "data": {
      "text/plain": [
       "isHiddenFraudulent\n",
       "False    176471\n",
       "True       8709\n",
       "Name: url, dtype: int64"
      ]
     },
     "execution_count": 61,
     "metadata": {},
     "output_type": "execute_result"
    }
   ],
   "source": [
    "df.groupby(['isHiddenFraudulent']).url.count()"
   ]
  },
  {
   "cell_type": "markdown",
   "metadata": {},
   "source": [
    "#### Remove rows duplicate"
   ]
  },
  {
   "cell_type": "code",
   "execution_count": 62,
   "metadata": {},
   "outputs": [
    {
     "data": {
      "text/plain": [
       "'Raw dataset length : 185180'"
      ]
     },
     "execution_count": 62,
     "metadata": {},
     "output_type": "execute_result"
    }
   ],
   "source": [
    "\"Raw dataset length : {}\".format(df.shape[0])"
   ]
  },
  {
   "cell_type": "code",
   "execution_count": 63,
   "metadata": {},
   "outputs": [
    {
     "data": {
      "text/plain": [
       "'Dataset without exact row duplicates length : 142802'"
      ]
     },
     "execution_count": 63,
     "metadata": {},
     "output_type": "execute_result"
    }
   ],
   "source": [
    "#duplicated rows\n",
    "df_rows = df.loc[~df.duplicated()]\n",
    "\"Dataset without exact row duplicates length : {}\".format(df_rows.shape[0])"
   ]
  },
  {
   "cell_type": "markdown",
   "metadata": {},
   "source": [
    "There are ~40k EXACT row duplicates...  \n",
    "What about url duplicates ? How many are there ?\n",
    "Is it worth keeping them ?"
   ]
  },
  {
   "cell_type": "code",
   "execution_count": 64,
   "metadata": {},
   "outputs": [
    {
     "data": {
      "text/plain": [
       "url\n",
       "http://pastehtml.com/auth/twitter                                   527\n",
       "http://pastehtml.com/auth/facebook                                   45\n",
       "http://blog.nabatakoutdoors.com/wp-login.php?action=lostpassword     16\n",
       "http://blog.nabatakoutdoors.com/wp-login.php                         16\n",
       "http://otelaydinlatma.com/index.html                                  8\n",
       "Name: compromissionType, dtype: int64"
      ]
     },
     "execution_count": 64,
     "metadata": {},
     "output_type": "execute_result"
    }
   ],
   "source": [
    "#Check url duplicates \n",
    "df_rows.groupby(['url']).compromissionType.count().sort_values(ascending=False).head()"
   ]
  },
  {
   "cell_type": "markdown",
   "metadata": {},
   "source": [
    "#### Check duplicates of single url"
   ]
  },
  {
   "cell_type": "code",
   "execution_count": 65,
   "metadata": {},
   "outputs": [
    {
     "data": {
      "text/html": [
       "<div>\n",
       "<style scoped>\n",
       "    .dataframe tbody tr th:only-of-type {\n",
       "        vertical-align: middle;\n",
       "    }\n",
       "\n",
       "    .dataframe tbody tr th {\n",
       "        vertical-align: top;\n",
       "    }\n",
       "\n",
       "    .dataframe thead th {\n",
       "        text-align: right;\n",
       "    }\n",
       "</style>\n",
       "<table border=\"1\" class=\"dataframe\">\n",
       "  <thead>\n",
       "    <tr style=\"text-align: right;\">\n",
       "      <th></th>\n",
       "      <th>url</th>\n",
       "      <th>compromissionType</th>\n",
       "      <th>isHiddenFraudulent</th>\n",
       "      <th>contentLength</th>\n",
       "      <th>serverType</th>\n",
       "      <th>poweredBy</th>\n",
       "      <th>contentType</th>\n",
       "      <th>lastModified</th>\n",
       "    </tr>\n",
       "  </thead>\n",
       "  <tbody>\n",
       "    <tr>\n",
       "      <th>106795</th>\n",
       "      <td>http://pastehtml.com/auth/facebook</td>\n",
       "      <td>phishing</td>\n",
       "      <td>False</td>\n",
       "      <td>41203</td>\n",
       "      <td>NaN</td>\n",
       "      <td>NaN</td>\n",
       "      <td>text/html; charset=utf-8</td>\n",
       "      <td>NaN</td>\n",
       "    </tr>\n",
       "    <tr>\n",
       "      <th>160322</th>\n",
       "      <td>http://pastehtml.com/auth/facebook</td>\n",
       "      <td>phishing</td>\n",
       "      <td>False</td>\n",
       "      <td>41206</td>\n",
       "      <td>NaN</td>\n",
       "      <td>NaN</td>\n",
       "      <td>text/html; charset=utf-8</td>\n",
       "      <td>NaN</td>\n",
       "    </tr>\n",
       "    <tr>\n",
       "      <th>165430</th>\n",
       "      <td>http://pastehtml.com/auth/facebook</td>\n",
       "      <td>phishing</td>\n",
       "      <td>False</td>\n",
       "      <td>40538</td>\n",
       "      <td>NaN</td>\n",
       "      <td>NaN</td>\n",
       "      <td>text/html; charset=utf-8</td>\n",
       "      <td>NaN</td>\n",
       "    </tr>\n",
       "    <tr>\n",
       "      <th>166635</th>\n",
       "      <td>http://pastehtml.com/auth/facebook</td>\n",
       "      <td>phishing</td>\n",
       "      <td>False</td>\n",
       "      <td>40495</td>\n",
       "      <td>NaN</td>\n",
       "      <td>NaN</td>\n",
       "      <td>text/html; charset=utf-8</td>\n",
       "      <td>NaN</td>\n",
       "    </tr>\n",
       "    <tr>\n",
       "      <th>166661</th>\n",
       "      <td>http://pastehtml.com/auth/facebook</td>\n",
       "      <td>phishing</td>\n",
       "      <td>False</td>\n",
       "      <td>40542</td>\n",
       "      <td>NaN</td>\n",
       "      <td>NaN</td>\n",
       "      <td>text/html; charset=utf-8</td>\n",
       "      <td>NaN</td>\n",
       "    </tr>\n",
       "  </tbody>\n",
       "</table>\n",
       "</div>"
      ],
      "text/plain": [
       "                                       url compromissionType  \\\n",
       "106795  http://pastehtml.com/auth/facebook          phishing   \n",
       "160322  http://pastehtml.com/auth/facebook          phishing   \n",
       "165430  http://pastehtml.com/auth/facebook          phishing   \n",
       "166635  http://pastehtml.com/auth/facebook          phishing   \n",
       "166661  http://pastehtml.com/auth/facebook          phishing   \n",
       "\n",
       "        isHiddenFraudulent  contentLength serverType poweredBy  \\\n",
       "106795               False          41203        NaN       NaN   \n",
       "160322               False          41206        NaN       NaN   \n",
       "165430               False          40538        NaN       NaN   \n",
       "166635               False          40495        NaN       NaN   \n",
       "166661               False          40542        NaN       NaN   \n",
       "\n",
       "                     contentType lastModified  \n",
       "106795  text/html; charset=utf-8          NaN  \n",
       "160322  text/html; charset=utf-8          NaN  \n",
       "165430  text/html; charset=utf-8          NaN  \n",
       "166635  text/html; charset=utf-8          NaN  \n",
       "166661  text/html; charset=utf-8          NaN  "
      ]
     },
     "execution_count": 65,
     "metadata": {},
     "output_type": "execute_result"
    }
   ],
   "source": [
    "path = 'http://pastehtml.com/auth/facebook'#Paste URL here\n",
    "ex = df_rows.loc[df_rows.url.str.contains(path)]  #This filters the dataframe with the given URL \n",
    "ex.head()"
   ]
  },
  {
   "cell_type": "code",
   "execution_count": 66,
   "metadata": {},
   "outputs": [
    {
     "data": {
      "text/html": [
       "<div>\n",
       "<style scoped>\n",
       "    .dataframe tbody tr th:only-of-type {\n",
       "        vertical-align: middle;\n",
       "    }\n",
       "\n",
       "    .dataframe tbody tr th {\n",
       "        vertical-align: top;\n",
       "    }\n",
       "\n",
       "    .dataframe thead th {\n",
       "        text-align: right;\n",
       "    }\n",
       "</style>\n",
       "<table border=\"1\" class=\"dataframe\">\n",
       "  <thead>\n",
       "    <tr style=\"text-align: right;\">\n",
       "      <th></th>\n",
       "      <th>contentLength</th>\n",
       "    </tr>\n",
       "  </thead>\n",
       "  <tbody>\n",
       "    <tr>\n",
       "      <th>count</th>\n",
       "      <td>45.000000</td>\n",
       "    </tr>\n",
       "    <tr>\n",
       "      <th>mean</th>\n",
       "      <td>41004.511111</td>\n",
       "    </tr>\n",
       "    <tr>\n",
       "      <th>std</th>\n",
       "      <td>410.532781</td>\n",
       "    </tr>\n",
       "    <tr>\n",
       "      <th>min</th>\n",
       "      <td>40461.000000</td>\n",
       "    </tr>\n",
       "    <tr>\n",
       "      <th>25%</th>\n",
       "      <td>40650.000000</td>\n",
       "    </tr>\n",
       "    <tr>\n",
       "      <th>50%</th>\n",
       "      <td>41126.000000</td>\n",
       "    </tr>\n",
       "    <tr>\n",
       "      <th>75%</th>\n",
       "      <td>41320.000000</td>\n",
       "    </tr>\n",
       "    <tr>\n",
       "      <th>max</th>\n",
       "      <td>42192.000000</td>\n",
       "    </tr>\n",
       "  </tbody>\n",
       "</table>\n",
       "</div>"
      ],
      "text/plain": [
       "       contentLength\n",
       "count      45.000000\n",
       "mean    41004.511111\n",
       "std       410.532781\n",
       "min     40461.000000\n",
       "25%     40650.000000\n",
       "50%     41126.000000\n",
       "75%     41320.000000\n",
       "max     42192.000000"
      ]
     },
     "execution_count": 66,
     "metadata": {},
     "output_type": "execute_result"
    }
   ],
   "source": [
    "ex.describe()"
   ]
  },
  {
   "cell_type": "markdown",
   "metadata": {},
   "source": [
    "Through analysis of several url duplicates, we concluded that they only differ slightly for the contentLength. We believe it's therefore not worth keeping"
   ]
  },
  {
   "cell_type": "markdown",
   "metadata": {},
   "source": [
    "#### Remove url duplicates"
   ]
  },
  {
   "cell_type": "code",
   "execution_count": 67,
   "metadata": {},
   "outputs": [],
   "source": [
    "df_unique_url = df.loc[~df.duplicated(subset=['url'])]"
   ]
  },
  {
   "cell_type": "code",
   "execution_count": 68,
   "metadata": {},
   "outputs": [
    {
     "data": {
      "text/plain": [
       "'Dataset without url duplicates length : 139495'"
      ]
     },
     "execution_count": 68,
     "metadata": {},
     "output_type": "execute_result"
    }
   ],
   "source": [
    "\"Dataset without url duplicates length : {}\".format(df_dupliless.shape[0])"
   ]
  },
  {
   "cell_type": "markdown",
   "metadata": {},
   "source": [
    "#### Distribution of samples by compromissionType/isHiddenFraudulent which are our potential targets"
   ]
  },
  {
   "cell_type": "code",
   "execution_count": 69,
   "metadata": {},
   "outputs": [
    {
     "data": {
      "text/html": [
       "<div>\n",
       "<style scoped>\n",
       "    .dataframe tbody tr th:only-of-type {\n",
       "        vertical-align: middle;\n",
       "    }\n",
       "\n",
       "    .dataframe tbody tr th {\n",
       "        vertical-align: top;\n",
       "    }\n",
       "\n",
       "    .dataframe thead th {\n",
       "        text-align: right;\n",
       "    }\n",
       "</style>\n",
       "<table border=\"1\" class=\"dataframe\">\n",
       "  <thead>\n",
       "    <tr style=\"text-align: right;\">\n",
       "      <th></th>\n",
       "      <th>compromissionType</th>\n",
       "      <th>isHiddenFraudulent</th>\n",
       "      <th>url</th>\n",
       "    </tr>\n",
       "  </thead>\n",
       "  <tbody>\n",
       "    <tr>\n",
       "      <th>0</th>\n",
       "      <td>defacement</td>\n",
       "      <td>False</td>\n",
       "      <td>94370</td>\n",
       "    </tr>\n",
       "    <tr>\n",
       "      <th>1</th>\n",
       "      <td>defacement</td>\n",
       "      <td>True</td>\n",
       "      <td>2144</td>\n",
       "    </tr>\n",
       "    <tr>\n",
       "      <th>2</th>\n",
       "      <td>normal</td>\n",
       "      <td>False</td>\n",
       "      <td>3713</td>\n",
       "    </tr>\n",
       "    <tr>\n",
       "      <th>3</th>\n",
       "      <td>phishing</td>\n",
       "      <td>False</td>\n",
       "      <td>78388</td>\n",
       "    </tr>\n",
       "    <tr>\n",
       "      <th>4</th>\n",
       "      <td>phishing</td>\n",
       "      <td>True</td>\n",
       "      <td>6565</td>\n",
       "    </tr>\n",
       "  </tbody>\n",
       "</table>\n",
       "</div>"
      ],
      "text/plain": [
       "  compromissionType  isHiddenFraudulent    url\n",
       "0        defacement               False  94370\n",
       "1        defacement                True   2144\n",
       "2            normal               False   3713\n",
       "3          phishing               False  78388\n",
       "4          phishing                True   6565"
      ]
     },
     "execution_count": 69,
     "metadata": {},
     "output_type": "execute_result"
    }
   ],
   "source": [
    "#Raw dataset\n",
    "df.groupby(['compromissionType','isHiddenFraudulent']).url.count().reset_index()"
   ]
  },
  {
   "cell_type": "code",
   "execution_count": 70,
   "metadata": {},
   "outputs": [
    {
     "data": {
      "text/html": [
       "<div>\n",
       "<style scoped>\n",
       "    .dataframe tbody tr th:only-of-type {\n",
       "        vertical-align: middle;\n",
       "    }\n",
       "\n",
       "    .dataframe tbody tr th {\n",
       "        vertical-align: top;\n",
       "    }\n",
       "\n",
       "    .dataframe thead th {\n",
       "        text-align: right;\n",
       "    }\n",
       "</style>\n",
       "<table border=\"1\" class=\"dataframe\">\n",
       "  <thead>\n",
       "    <tr style=\"text-align: right;\">\n",
       "      <th></th>\n",
       "      <th>compromissionType</th>\n",
       "      <th>isHiddenFraudulent</th>\n",
       "      <th>url</th>\n",
       "    </tr>\n",
       "  </thead>\n",
       "  <tbody>\n",
       "    <tr>\n",
       "      <th>0</th>\n",
       "      <td>defacement</td>\n",
       "      <td>False</td>\n",
       "      <td>93244</td>\n",
       "    </tr>\n",
       "    <tr>\n",
       "      <th>1</th>\n",
       "      <td>defacement</td>\n",
       "      <td>True</td>\n",
       "      <td>2121</td>\n",
       "    </tr>\n",
       "    <tr>\n",
       "      <th>2</th>\n",
       "      <td>normal</td>\n",
       "      <td>False</td>\n",
       "      <td>3637</td>\n",
       "    </tr>\n",
       "    <tr>\n",
       "      <th>3</th>\n",
       "      <td>phishing</td>\n",
       "      <td>False</td>\n",
       "      <td>33964</td>\n",
       "    </tr>\n",
       "    <tr>\n",
       "      <th>4</th>\n",
       "      <td>phishing</td>\n",
       "      <td>True</td>\n",
       "      <td>6529</td>\n",
       "    </tr>\n",
       "  </tbody>\n",
       "</table>\n",
       "</div>"
      ],
      "text/plain": [
       "  compromissionType  isHiddenFraudulent    url\n",
       "0        defacement               False  93244\n",
       "1        defacement                True   2121\n",
       "2            normal               False   3637\n",
       "3          phishing               False  33964\n",
       "4          phishing                True   6529"
      ]
     },
     "execution_count": 70,
     "metadata": {},
     "output_type": "execute_result"
    }
   ],
   "source": [
    "#### Unique URL\n",
    "df_unique_url.groupby(['compromissionType','isHiddenFraudulent']).url.count().reset_index()"
   ]
  },
  {
   "cell_type": "markdown",
   "metadata": {},
   "source": [
    "We notice that the majority of the duplicates came from phishing websites. "
   ]
  },
  {
   "cell_type": "markdown",
   "metadata": {},
   "source": [
    "#### Example of analysis of one feature : contentLength"
   ]
  },
  {
   "cell_type": "code",
   "execution_count": 73,
   "metadata": {},
   "outputs": [
    {
     "data": {
      "text/plain": [
       "count    1.394950e+05\n",
       "mean     3.924065e+03\n",
       "std      2.085518e+04\n",
       "min      0.000000e+00\n",
       "25%      0.000000e+00\n",
       "50%      0.000000e+00\n",
       "75%      0.000000e+00\n",
       "max      3.843260e+06\n",
       "Name: contentLength, dtype: float64"
      ]
     },
     "execution_count": 73,
     "metadata": {},
     "output_type": "execute_result"
    }
   ],
   "source": [
    "df_unique_url.contentLength.describe()"
   ]
  },
  {
   "cell_type": "code",
   "execution_count": 71,
   "metadata": {},
   "outputs": [
    {
     "data": {
      "text/plain": [
       "array([False])"
      ]
     },
     "execution_count": 71,
     "metadata": {},
     "output_type": "execute_result"
    }
   ],
   "source": [
    "df_unique_url.contentLength.isnull().unique() #check for nan values"
   ]
  },
  {
   "cell_type": "code",
   "execution_count": 100,
   "metadata": {},
   "outputs": [
    {
     "data": {
      "text/plain": [
       "isHiddenFraudulent\n",
       "False    113290\n",
       "True       4106\n",
       "Name: url, dtype: int64"
      ]
     },
     "execution_count": 100,
     "metadata": {},
     "output_type": "execute_result"
    }
   ],
   "source": [
    "cl_0 = df_unique_url.loc[df_unique_url.contentLength == 0].groupby(['isHiddenFraudulent']).url.count()\n",
    "cl_0"
   ]
  },
  {
   "cell_type": "code",
   "execution_count": 126,
   "metadata": {},
   "outputs": [
    {
     "name": "stdout",
     "output_type": "stream",
     "text": [
      "84.16 % of the dataset has a contentLength=0\n",
      "3.62 % has the label isHiddenFraudulent\n"
     ]
    }
   ],
   "source": [
    "perc_cl_0 = np.round((cl_0[0]+cl_0[1])/df_unique_url.shape[0]*100,2)\n",
    "perc_fraud= np.round(cl_0[1]/cl_0[0]*100,2)\n",
    "\n",
    "msg = \"{} % of the dataset has a contentLength=0\\n{} % has the label isHiddenFraudulent\"\n",
    "print(msg.format(perc_cl_0, perc_fraud))"
   ]
  },
  {
   "cell_type": "code",
   "execution_count": 127,
   "metadata": {},
   "outputs": [
    {
     "data": {
      "text/plain": [
       "isHiddenFraudulent\n",
       "False    17555\n",
       "True      4544\n",
       "Name: url, dtype: int64"
      ]
     },
     "execution_count": 127,
     "metadata": {},
     "output_type": "execute_result"
    }
   ],
   "source": [
    "cl_sup_0 = df_unique_url.loc[df_unique_url.contentLength > 0].groupby(['isHiddenFraudulent']).url.count()\n",
    "cl_sup_0"
   ]
  },
  {
   "cell_type": "code",
   "execution_count": 128,
   "metadata": {},
   "outputs": [
    {
     "name": "stdout",
     "output_type": "stream",
     "text": [
      "15.84 % of the dataset has a contentLength=0\n",
      "25.88 % has the label isHiddenFraudulent\n"
     ]
    }
   ],
   "source": [
    "perc_cl_sup_0 = np.round((cl_sup_0[0]+cl_sup_0[1])/df_unique_url.shape[0]*100,2)\n",
    "perc_fraud= np.round(cl_sup_0[1]/cl_sup_0[0]*100,2)\n",
    "\n",
    "msg = \"{} % of the dataset has a contentLength=0\\n{} % has the label isHiddenFraudulent\"\n",
    "print(msg.format(perc_cl_sup_0, perc_fraud))"
   ]
  },
  {
   "cell_type": "markdown",
   "metadata": {},
   "source": [
    "Interesting for the choice of features later on...\n",
    "We could even create a rule based algorithm from those observations"
   ]
  }
 ],
 "metadata": {
  "kernelspec": {
   "display_name": "Python 3",
   "language": "python",
   "name": "python3"
  },
  "language_info": {
   "codemirror_mode": {
    "name": "ipython",
    "version": 3
   },
   "file_extension": ".py",
   "mimetype": "text/x-python",
   "name": "python",
   "nbconvert_exporter": "python",
   "pygments_lexer": "ipython3",
   "version": "3.6.8"
  }
 },
 "nbformat": 4,
 "nbformat_minor": 2
}
