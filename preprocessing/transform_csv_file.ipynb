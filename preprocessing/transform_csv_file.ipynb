{
 "cells": [
  {
   "cell_type": "code",
   "execution_count": 3,
   "metadata": {},
   "outputs": [],
   "source": [
    "import pandas as pd "
   ]
  },
  {
   "cell_type": "markdown",
   "metadata": {},
   "source": [
    "#### Read raw dataset"
   ]
  },
  {
   "cell_type": "code",
   "execution_count": 4,
   "metadata": {},
   "outputs": [],
   "source": [
    "df = pd.read_csv('./HiddenFraudulentURLs.csv', sep=';')"
   ]
  },
  {
   "cell_type": "markdown",
   "metadata": {},
   "source": [
    "#### Remove url duplicates"
   ]
  },
  {
   "cell_type": "code",
   "execution_count": 5,
   "metadata": {},
   "outputs": [],
   "source": [
    "df_dupliless = df.loc[~df.duplicated(subset=['url'])]"
   ]
  },
  {
   "cell_type": "code",
   "execution_count": 6,
   "metadata": {},
   "outputs": [
    {
     "data": {
      "text/plain": [
       "(139495, 8)"
      ]
     },
     "execution_count": 6,
     "metadata": {},
     "output_type": "execute_result"
    }
   ],
   "source": [
    "df_dupliless.shape"
   ]
  },
  {
   "cell_type": "markdown",
   "metadata": {},
   "source": [
    "#### Remove redundant http(s) in the urls "
   ]
  },
  {
   "cell_type": "code",
   "execution_count": 9,
   "metadata": {},
   "outputs": [],
   "source": [
    "def remove_http(url):\n",
    "    http = 'http://'\n",
    "    https = 'https://'\n",
    "    if http in url:\n",
    "        url = url.replace(http, '')\n",
    "    if https in url:\n",
    "        url = url.replace(https, '')\n",
    "    return url"
   ]
  },
  {
   "cell_type": "code",
   "execution_count": 10,
   "metadata": {},
   "outputs": [
    {
     "name": "stderr",
     "output_type": "stream",
     "text": [
      "/Users/paul/miniconda3/envs/fraud-url/lib/python3.6/site-packages/ipykernel_launcher.py:1: SettingWithCopyWarning: \n",
      "A value is trying to be set on a copy of a slice from a DataFrame.\n",
      "Try using .loc[row_indexer,col_indexer] = value instead\n",
      "\n",
      "See the caveats in the documentation: http://pandas.pydata.org/pandas-docs/stable/indexing.html#indexing-view-versus-copy\n",
      "  \"\"\"Entry point for launching an IPython kernel.\n"
     ]
    }
   ],
   "source": [
    "df_dupliless['url'] = df_dupliless['url'].apply(lambda x: remove_http(x))"
   ]
  },
  {
   "cell_type": "code",
   "execution_count": null,
   "metadata": {},
   "outputs": [],
   "source": []
  },
  {
   "cell_type": "markdown",
   "metadata": {},
   "source": [
    "Sort url by length"
   ]
  },
  {
   "cell_type": "code",
   "execution_count": null,
   "metadata": {
    "scrolled": true
   },
   "outputs": [],
   "source": [
    "df_dupliless.groupby(['contentType']).isHiddenFraudulent.sum().reset_index().sort_values(by='isHiddenFraudulent', ascending=False)"
   ]
  },
  {
   "cell_type": "code",
   "execution_count": null,
   "metadata": {},
   "outputs": [],
   "source": [
    "sorted(list(df_dupliless.loc[df_dupliless.isHiddenFraudulent].url), key=lambda x: len(x))"
   ]
  },
  {
   "cell_type": "code",
   "execution_count": 117,
   "metadata": {},
   "outputs": [],
   "source": [
    "df_dupliless.to_csv('./dataset_no_dupli_no_http.csv', sep=';', index=False)"
   ]
  },
  {
   "cell_type": "code",
   "execution_count": 109,
   "metadata": {},
   "outputs": [
    {
     "data": {
      "text/html": [
       "<div>\n",
       "<style scoped>\n",
       "    .dataframe tbody tr th:only-of-type {\n",
       "        vertical-align: middle;\n",
       "    }\n",
       "\n",
       "    .dataframe tbody tr th {\n",
       "        vertical-align: top;\n",
       "    }\n",
       "\n",
       "    .dataframe thead th {\n",
       "        text-align: right;\n",
       "    }\n",
       "</style>\n",
       "<table border=\"1\" class=\"dataframe\">\n",
       "  <thead>\n",
       "    <tr style=\"text-align: right;\">\n",
       "      <th></th>\n",
       "      <th>isHiddenFraudulent</th>\n",
       "      <th>url</th>\n",
       "    </tr>\n",
       "  </thead>\n",
       "  <tbody>\n",
       "    <tr>\n",
       "      <th>0</th>\n",
       "      <td>False</td>\n",
       "      <td>65461</td>\n",
       "    </tr>\n",
       "    <tr>\n",
       "      <th>1</th>\n",
       "      <td>True</td>\n",
       "      <td>3006</td>\n",
       "    </tr>\n",
       "  </tbody>\n",
       "</table>\n",
       "</div>"
      ],
      "text/plain": [
       "   isHiddenFraudulent    url\n",
       "0               False  65461\n",
       "1                True   3006"
      ]
     },
     "execution_count": 109,
     "metadata": {},
     "output_type": "execute_result"
    }
   ],
   "source": [
    "df_dupliless.loc[~df_dupliless.poweredBy.isnull()].groupby(['isHiddenFraudulent']).url.count().reset_index()"
   ]
  },
  {
   "cell_type": "markdown",
   "metadata": {},
   "source": [
    "#### Treat serverType nan"
   ]
  },
  {
   "cell_type": "code",
   "execution_count": 12,
   "metadata": {},
   "outputs": [],
   "source": [
    "df = pd.read_csv('./dataset_no_dupli_no_http.csv', sep=',')"
   ]
  },
  {
   "cell_type": "code",
   "execution_count": 19,
   "metadata": {},
   "outputs": [],
   "source": [
    "df.serverType = df.serverType.fillna('Unknown')"
   ]
  },
  {
   "cell_type": "code",
   "execution_count": 27,
   "metadata": {},
   "outputs": [
    {
     "data": {
      "text/plain": [
       "array([False])"
      ]
     },
     "execution_count": 27,
     "metadata": {},
     "output_type": "execute_result"
    }
   ],
   "source": [
    "df.serverType.isnull().unique()"
   ]
  },
  {
   "cell_type": "code",
   "execution_count": 18,
   "metadata": {},
   "outputs": [],
   "source": [
    "df.to_csv('./dataset_no_dupli_no_http_only_url.csv', sep=',', index=False)"
   ]
  },
  {
   "cell_type": "code",
   "execution_count": 15,
   "metadata": {},
   "outputs": [],
   "source": [
    "df = df.drop(['compromissionType', 'contentLength','poweredBy','contentType','lastModified','serverType'], axis=1)"
   ]
  },
  {
   "cell_type": "code",
   "execution_count": 62,
   "metadata": {},
   "outputs": [],
   "source": [
    "df_bru = pd.read_csv('./HiddenFraudulentURLs.csv', sep=';')"
   ]
  },
  {
   "cell_type": "code",
   "execution_count": 81,
   "metadata": {},
   "outputs": [
    {
     "data": {
      "text/html": [
       "<div>\n",
       "<style scoped>\n",
       "    .dataframe tbody tr th:only-of-type {\n",
       "        vertical-align: middle;\n",
       "    }\n",
       "\n",
       "    .dataframe tbody tr th {\n",
       "        vertical-align: top;\n",
       "    }\n",
       "\n",
       "    .dataframe thead th {\n",
       "        text-align: right;\n",
       "    }\n",
       "</style>\n",
       "<table border=\"1\" class=\"dataframe\">\n",
       "  <thead>\n",
       "    <tr style=\"text-align: right;\">\n",
       "      <th></th>\n",
       "      <th>url</th>\n",
       "      <th>compromissionType</th>\n",
       "      <th>isHiddenFraudulent</th>\n",
       "      <th>contentLength</th>\n",
       "      <th>serverType</th>\n",
       "      <th>poweredBy</th>\n",
       "      <th>contentType</th>\n",
       "      <th>lastModified</th>\n",
       "    </tr>\n",
       "  </thead>\n",
       "  <tbody>\n",
       "    <tr>\n",
       "      <th>25918</th>\n",
       "      <td>http://www.fridelab.com.br/noticias/transplant...</td>\n",
       "      <td>defacement</td>\n",
       "      <td>False</td>\n",
       "      <td>0</td>\n",
       "      <td>Apache</td>\n",
       "      <td>NaN</td>\n",
       "      <td>text/html; charset=utf-8</td>\n",
       "      <td>Wed, 30 Jan 2013 19:15:14 GMT</td>\n",
       "    </tr>\n",
       "    <tr>\n",
       "      <th>25919</th>\n",
       "      <td>http://www.fridelab.com.br/component/option,co...</td>\n",
       "      <td>defacement</td>\n",
       "      <td>False</td>\n",
       "      <td>0</td>\n",
       "      <td>Apache</td>\n",
       "      <td>NaN</td>\n",
       "      <td>text/html; charset=utf-8</td>\n",
       "      <td>Wed, 30 Jan 2013 19:15:15 GMT</td>\n",
       "    </tr>\n",
       "    <tr>\n",
       "      <th>25920</th>\n",
       "      <td>http://www.fridelab.com.br/noticias/transplant...</td>\n",
       "      <td>defacement</td>\n",
       "      <td>False</td>\n",
       "      <td>0</td>\n",
       "      <td>Apache</td>\n",
       "      <td>NaN</td>\n",
       "      <td>text/html; charset=iso-8859-1</td>\n",
       "      <td>NaN</td>\n",
       "    </tr>\n",
       "    <tr>\n",
       "      <th>25921</th>\n",
       "      <td>http://www.fridelab.com.br/noticias/especialis...</td>\n",
       "      <td>defacement</td>\n",
       "      <td>False</td>\n",
       "      <td>0</td>\n",
       "      <td>Apache</td>\n",
       "      <td>NaN</td>\n",
       "      <td>text/html; charset=utf-8</td>\n",
       "      <td>Wed, 30 Jan 2013 19:15:17 GMT</td>\n",
       "    </tr>\n",
       "    <tr>\n",
       "      <th>25922</th>\n",
       "      <td>http://www.fridelab.com.br/component/option,co...</td>\n",
       "      <td>defacement</td>\n",
       "      <td>False</td>\n",
       "      <td>0</td>\n",
       "      <td>Apache</td>\n",
       "      <td>NaN</td>\n",
       "      <td>text/html; charset=utf-8</td>\n",
       "      <td>Wed, 30 Jan 2013 19:15:18 GMT</td>\n",
       "    </tr>\n",
       "    <tr>\n",
       "      <th>25923</th>\n",
       "      <td>http://www.fridelab.com.br/noticias/especialis...</td>\n",
       "      <td>defacement</td>\n",
       "      <td>False</td>\n",
       "      <td>0</td>\n",
       "      <td>Apache</td>\n",
       "      <td>NaN</td>\n",
       "      <td>text/html; charset=iso-8859-1</td>\n",
       "      <td>NaN</td>\n",
       "    </tr>\n",
       "    <tr>\n",
       "      <th>25924</th>\n",
       "      <td>http://www.fridelab.com.br/noticias/antibiotic...</td>\n",
       "      <td>defacement</td>\n",
       "      <td>False</td>\n",
       "      <td>0</td>\n",
       "      <td>Apache</td>\n",
       "      <td>NaN</td>\n",
       "      <td>text/html; charset=utf-8</td>\n",
       "      <td>Wed, 30 Jan 2013 19:15:19 GMT</td>\n",
       "    </tr>\n",
       "    <tr>\n",
       "      <th>25925</th>\n",
       "      <td>http://www.fridelab.com.br/component/option,co...</td>\n",
       "      <td>defacement</td>\n",
       "      <td>False</td>\n",
       "      <td>0</td>\n",
       "      <td>Apache</td>\n",
       "      <td>NaN</td>\n",
       "      <td>text/html; charset=utf-8</td>\n",
       "      <td>Wed, 30 Jan 2013 19:15:20 GMT</td>\n",
       "    </tr>\n",
       "  </tbody>\n",
       "</table>\n",
       "</div>"
      ],
      "text/plain": [
       "                                                     url compromissionType  \\\n",
       "25918  http://www.fridelab.com.br/noticias/transplant...        defacement   \n",
       "25919  http://www.fridelab.com.br/component/option,co...        defacement   \n",
       "25920  http://www.fridelab.com.br/noticias/transplant...        defacement   \n",
       "25921  http://www.fridelab.com.br/noticias/especialis...        defacement   \n",
       "25922  http://www.fridelab.com.br/component/option,co...        defacement   \n",
       "25923  http://www.fridelab.com.br/noticias/especialis...        defacement   \n",
       "25924  http://www.fridelab.com.br/noticias/antibiotic...        defacement   \n",
       "25925  http://www.fridelab.com.br/component/option,co...        defacement   \n",
       "\n",
       "       isHiddenFraudulent  contentLength serverType poweredBy  \\\n",
       "25918               False              0     Apache       NaN   \n",
       "25919               False              0     Apache       NaN   \n",
       "25920               False              0     Apache       NaN   \n",
       "25921               False              0     Apache       NaN   \n",
       "25922               False              0     Apache       NaN   \n",
       "25923               False              0     Apache       NaN   \n",
       "25924               False              0     Apache       NaN   \n",
       "25925               False              0     Apache       NaN   \n",
       "\n",
       "                         contentType                   lastModified  \n",
       "25918       text/html; charset=utf-8  Wed, 30 Jan 2013 19:15:14 GMT  \n",
       "25919       text/html; charset=utf-8  Wed, 30 Jan 2013 19:15:15 GMT  \n",
       "25920  text/html; charset=iso-8859-1                            NaN  \n",
       "25921       text/html; charset=utf-8  Wed, 30 Jan 2013 19:15:17 GMT  \n",
       "25922       text/html; charset=utf-8  Wed, 30 Jan 2013 19:15:18 GMT  \n",
       "25923  text/html; charset=iso-8859-1                            NaN  \n",
       "25924       text/html; charset=utf-8  Wed, 30 Jan 2013 19:15:19 GMT  \n",
       "25925       text/html; charset=utf-8  Wed, 30 Jan 2013 19:15:20 GMT  "
      ]
     },
     "execution_count": 81,
     "metadata": {},
     "output_type": "execute_result"
    }
   ],
   "source": [
    "df_bru.loc[25918:25925]"
   ]
  },
  {
   "cell_type": "code",
   "execution_count": 84,
   "metadata": {},
   "outputs": [
    {
     "data": {
      "text/plain": [
       "'http://www.fridelab.com.br/noticias/especialistas-alertam-para-aumento-global-de-diabetes-infantil/imprimir'"
      ]
     },
     "execution_count": 84,
     "metadata": {},
     "output_type": "execute_result"
    }
   ],
   "source": [
    "df_bru.loc[25921].url"
   ]
  },
  {
   "cell_type": "code",
   "execution_count": 83,
   "metadata": {},
   "outputs": [
    {
     "data": {
      "text/plain": [
       "'http://www.fridelab.com.br/component/option,com_mailto/link,aHR0cDovL3d3dy5mcmlkZWxhYi5jb20uYnIvbm90aWNpYXMvZXNwZWNpYWxpc3Rhcy1hbGVydGFtLXBhcmEtYXVtZW50by1nbG9iYWwtZGUtZGlhYmV0ZXMtaW5mYW50aWw=/tmpl,component/index.html'"
      ]
     },
     "execution_count": 83,
     "metadata": {},
     "output_type": "execute_result"
    }
   ],
   "source": [
    "df_bru.loc[25922].url"
   ]
  },
  {
   "cell_type": "markdown",
   "metadata": {},
   "source": [
    "### Create train, valid and test set"
   ]
  },
  {
   "cell_type": "code",
   "execution_count": 170,
   "metadata": {},
   "outputs": [],
   "source": [
    "df = pd.read_csv('./dataset_no_dupli_no_http.csv', sep=',')"
   ]
  },
  {
   "cell_type": "code",
   "execution_count": 149,
   "metadata": {},
   "outputs": [],
   "source": [
    "df_negative = df.loc[df.isHiddenFraudulent==False]"
   ]
  },
  {
   "cell_type": "code",
   "execution_count": 150,
   "metadata": {},
   "outputs": [
    {
     "data": {
      "text/plain": [
       "(130845, 8)"
      ]
     },
     "execution_count": 150,
     "metadata": {},
     "output_type": "execute_result"
    }
   ],
   "source": [
    "df_negative.shape"
   ]
  },
  {
   "cell_type": "code",
   "execution_count": 151,
   "metadata": {},
   "outputs": [],
   "source": [
    "df_positive = df.loc[df.isHiddenFraudulent==True]"
   ]
  },
  {
   "cell_type": "code",
   "execution_count": 152,
   "metadata": {},
   "outputs": [
    {
     "data": {
      "text/plain": [
       "(8650, 8)"
      ]
     },
     "execution_count": 152,
     "metadata": {},
     "output_type": "execute_result"
    }
   ],
   "source": [
    "df_positive.shape"
   ]
  },
  {
   "cell_type": "code",
   "execution_count": 153,
   "metadata": {},
   "outputs": [],
   "source": [
    "df_positive_rep = pd.concat([df_positive for i in range(15)])"
   ]
  },
  {
   "cell_type": "code",
   "execution_count": 154,
   "metadata": {},
   "outputs": [
    {
     "data": {
      "text/plain": [
       "(129750, 8)"
      ]
     },
     "execution_count": 154,
     "metadata": {},
     "output_type": "execute_result"
    }
   ],
   "source": [
    "df_positive_rep.shape"
   ]
  },
  {
   "cell_type": "code",
   "execution_count": 155,
   "metadata": {},
   "outputs": [],
   "source": [
    "df_full = pd.concat([df_negative, df_positive_rep])"
   ]
  },
  {
   "cell_type": "code",
   "execution_count": 177,
   "metadata": {},
   "outputs": [],
   "source": [
    "df_full = df_full.sample(frac=1).reset_index(drop=True)"
   ]
  },
  {
   "cell_type": "code",
   "execution_count": 179,
   "metadata": {},
   "outputs": [],
   "source": [
    "np.random.seed(seed=1) #makes split reproducible\n",
    "rand = np.random.rand(len(df_full))\n",
    "msk_Tr = rand < 0.7\n",
    "msk_test = (0.7 <= rand) & (rand < 0.85)\n",
    "msk_V = rand >= 0.85\n",
    "train_df = df_full[msk_Tr]\n",
    "eval_df = df_full[msk_V]\n",
    "test_df = df_full[msk_test]"
   ]
  },
  {
   "cell_type": "code",
   "execution_count": 159,
   "metadata": {},
   "outputs": [
    {
     "data": {
      "text/plain": [
       "(182332, 8)"
      ]
     },
     "execution_count": 159,
     "metadata": {},
     "output_type": "execute_result"
    }
   ],
   "source": [
    "train_df.shape"
   ]
  },
  {
   "cell_type": "code",
   "execution_count": 120,
   "metadata": {},
   "outputs": [
    {
     "data": {
      "text/plain": [
       "(38967, 8)"
      ]
     },
     "execution_count": 120,
     "metadata": {},
     "output_type": "execute_result"
    }
   ],
   "source": [
    "eval_df.shape"
   ]
  },
  {
   "cell_type": "code",
   "execution_count": 121,
   "metadata": {},
   "outputs": [
    {
     "data": {
      "text/plain": [
       "(39296, 8)"
      ]
     },
     "execution_count": 121,
     "metadata": {},
     "output_type": "execute_result"
    }
   ],
   "source": [
    "test_df.shape"
   ]
  },
  {
   "cell_type": "code",
   "execution_count": 166,
   "metadata": {},
   "outputs": [
    {
     "data": {
      "text/plain": [
       "isHiddenFraudulent\n",
       "False    19755\n",
       "True     19212\n",
       "Name: url, dtype: int64"
      ]
     },
     "execution_count": 166,
     "metadata": {},
     "output_type": "execute_result"
    }
   ],
   "source": [
    "eval_df.groupby(['isHiddenFraudulent']).url.count()"
   ]
  },
  {
   "cell_type": "code",
   "execution_count": 167,
   "metadata": {},
   "outputs": [
    {
     "data": {
      "text/plain": [
       "isHiddenFraudulent\n",
       "False    19755\n",
       "True     19212\n",
       "Name: url, dtype: int64"
      ]
     },
     "execution_count": 167,
     "metadata": {},
     "output_type": "execute_result"
    }
   ],
   "source": [
    "eval_df.groupby(['isHiddenFraudulent']).url.count()"
   ]
  },
  {
   "cell_type": "code",
   "execution_count": 168,
   "metadata": {},
   "outputs": [
    {
     "data": {
      "text/plain": [
       "isHiddenFraudulent\n",
       "False    91513\n",
       "True     90819\n",
       "Name: url, dtype: int64"
      ]
     },
     "execution_count": 168,
     "metadata": {},
     "output_type": "execute_result"
    }
   ],
   "source": [
    "train_df.groupby(['isHiddenFraudulent']).url.count()"
   ]
  },
  {
   "cell_type": "code",
   "execution_count": 180,
   "metadata": {},
   "outputs": [],
   "source": [
    "train_df.to_csv('./train.csv', sep=',', index=False)\n",
    "eval_df.to_csv('./eval.csv', sep=',', index=False)\n",
    "test_df.to_csv('./test.csv', sep=',', index=False)"
   ]
  },
  {
   "cell_type": "code",
   "execution_count": 102,
   "metadata": {},
   "outputs": [
    {
     "data": {
      "text/plain": [
       "isHiddenFraudulent\n",
       "False      6\n",
       "True     668\n",
       "Name: url, dtype: int64"
      ]
     },
     "execution_count": 102,
     "metadata": {},
     "output_type": "execute_result"
    }
   ],
   "source": [
    "df_dupliless.loc[df_dupliless.url.str.contains('.txt')].groupby(['isHiddenFraudulent']).url.count()"
   ]
  }
 ],
 "metadata": {
  "kernelspec": {
   "display_name": "Python 3",
   "language": "python",
   "name": "python3"
  },
  "language_info": {
   "codemirror_mode": {
    "name": "ipython",
    "version": 3
   },
   "file_extension": ".py",
   "mimetype": "text/x-python",
   "name": "python",
   "nbconvert_exporter": "python",
   "pygments_lexer": "ipython3",
   "version": "3.6.8"
  }
 },
 "nbformat": 4,
 "nbformat_minor": 2
}
